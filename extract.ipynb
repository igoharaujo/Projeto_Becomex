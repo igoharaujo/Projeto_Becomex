{
 "cells": [
  {
   "cell_type": "code",
   "execution_count": null,
   "metadata": {},
   "outputs": [
    {
     "name": "stderr",
     "output_type": "stream",
     "text": [
      "25/04/19 16:32:33 WARN Utils: Your hostname, MacBook-Air-de-Igoh.local resolves to a loopback address: 127.0.0.1; using 172.17.1.180 instead (on interface en0)\n",
      "25/04/19 16:32:33 WARN Utils: Set SPARK_LOCAL_IP if you need to bind to another address\n"
     ]
    },
    {
     "name": "stdout",
     "output_type": "stream",
     "text": [
      ":: loading settings :: url = jar:file:/opt/anaconda3/lib/python3.12/site-packages/pyspark/jars/ivy-2.5.1.jar!/org/apache/ivy/core/settings/ivysettings.xml\n"
     ]
    },
    {
     "name": "stderr",
     "output_type": "stream",
     "text": [
      "Ivy Default Cache set to: /Users/igoh/.ivy2/cache\n",
      "The jars for the packages stored in: /Users/igoh/.ivy2/jars\n",
      "io.delta#delta-spark_2.12 added as a dependency\n",
      ":: resolving dependencies :: org.apache.spark#spark-submit-parent-7d235570-479c-4213-8048-b17fb871e664;1.0\n",
      "\tconfs: [default]\n",
      "\tfound io.delta#delta-spark_2.12;3.3.0 in central\n",
      "\tfound io.delta#delta-storage;3.3.0 in central\n",
      "\tfound org.antlr#antlr4-runtime;4.9.3 in central\n",
      ":: resolution report :: resolve 95ms :: artifacts dl 3ms\n",
      "\t:: modules in use:\n",
      "\tio.delta#delta-spark_2.12;3.3.0 from central in [default]\n",
      "\tio.delta#delta-storage;3.3.0 from central in [default]\n",
      "\torg.antlr#antlr4-runtime;4.9.3 from central in [default]\n",
      "\t---------------------------------------------------------------------\n",
      "\t|                  |            modules            ||   artifacts   |\n",
      "\t|       conf       | number| search|dwnlded|evicted|| number|dwnlded|\n",
      "\t---------------------------------------------------------------------\n",
      "\t|      default     |   3   |   0   |   0   |   0   ||   3   |   0   |\n",
      "\t---------------------------------------------------------------------\n",
      ":: retrieving :: org.apache.spark#spark-submit-parent-7d235570-479c-4213-8048-b17fb871e664\n",
      "\tconfs: [default]\n",
      "\t0 artifacts copied, 3 already retrieved (0kB/3ms)\n",
      "25/04/19 16:32:33 WARN NativeCodeLoader: Unable to load native-hadoop library for your platform... using builtin-java classes where applicable\n",
      "Setting default log level to \"WARN\".\n",
      "To adjust logging level use sc.setLogLevel(newLevel). For SparkR, use setLogLevel(newLevel).\n",
      "25/04/19 16:32:34 WARN Utils: Service 'SparkUI' could not bind on port 4040. Attempting port 4041.\n"
     ]
    }
   ],
   "source": [
    "from pyspark.sql import SparkSession\n",
    "from delta import configure_spark_with_delta_pip\n",
    "\n",
    "builder = SparkSession.builder \\\n",
    "    .appName(\"SparkTurboDelta\") \\\n",
    "    .master(\"local[*]\") \\\n",
    "    .config(\"spark.driver.memory\", \"6g\") \\\n",
    "    .config(\"spark.executor.memory\", \"6g\") \\\n",
    "    .config(\"spark.sql.shuffle.partitions\", \"8\") \\\n",
    "    .config(\"spark.sql.execution.arrow.pyspark.enabled\", \"true\") \\\n",
    "    .config(\"spark.jars.packages\", \"io.delta:delta-core_2.12:2.4.0\") \\\n",
    "    .config(\"spark.sql.extensions\", \"io.delta.sql.DeltaSparkSessionExtension\") \\\n",
    "    .config(\"spark.sql.catalog.spark_catalog\", \"org.apache.spark.sql.delta.catalog.DeltaCatalog\")\n",
    "\n",
    "spark = configure_spark_with_delta_pip(builder).getOrCreate()\n"
   ]
  },
  {
   "cell_type": "code",
   "execution_count": 2,
   "metadata": {
    "application/vnd.databricks.v1+cell": {
     "cellMetadata": {
      "byteLimit": 2048000,
      "rowLimit": 10000
     },
     "inputWidgets": {},
     "nuid": "54c838df-3161-4640-ba65-2538ac42d9f3",
     "showTitle": false,
     "tableResultSettingsMap": {},
     "title": ""
    }
   },
   "outputs": [],
   "source": [
    "from concurrent.futures import ThreadPoolExecutor\n",
    "import requests\n",
    "import pandas as pd\n",
    "import zipfile\n",
    "import io\n",
    "from io import StringIO\n",
    "import os"
   ]
  },
  {
   "cell_type": "code",
   "execution_count": 3,
   "metadata": {
    "application/vnd.databricks.v1+cell": {
     "cellMetadata": {
      "byteLimit": 2048000,
      "rowLimit": 10000
     },
     "inputWidgets": {},
     "nuid": "28e23f01-5927-48a0-a937-a697cc75c5a4",
     "showTitle": false,
     "tableResultSettingsMap": {},
     "title": ""
    }
   },
   "outputs": [],
   "source": [
    "dic_tabelas = {\n",
    "    'tabela_ncm': {\n",
    "        'nome': 'ncm',\n",
    "        'url': 'https://balanca.economia.gov.br/balanca/bd/tabelas/NCM.csv'\n",
    "    },\n",
    "    'tabela_sh': {\n",
    "        'nome': 'sh',\n",
    "        'url': 'https://balanca.economia.gov.br/balanca/bd/tabelas/NCM_SH.csv'\n",
    "    },\n",
    "    'tabela_cuci': {\n",
    "        'nome': 'ncm_cuci',\n",
    "        'url': 'https://balanca.economia.gov.br/balanca/bd/tabelas/NCM_CUCI.csv'\n",
    "    },\n",
    "    'tabela_isic': {\n",
    "        'nome': 'ncm_isic',\n",
    "        'url': 'https://balanca.economia.gov.br/balanca/bd/tabelas/NCM_ISIC.csv'\n",
    "    },\n",
    "    'tabela_isic_cuci': {\n",
    "        'nome': 'isic_cuci',\n",
    "        'url': 'https://balanca.economia.gov.br/balanca/bd/tabelas/ISIC_CUCI.csv' #apagar\n",
    "    },\n",
    "    'tabela_cgce': {\n",
    "        'nome': 'ncm_cgce',\n",
    "        'url': 'https://balanca.economia.gov.br/balanca/bd/tabelas/NCM_CGCE.csv'\n",
    "    },\n",
    "    'tabela_fator_agregado': {\n",
    "        'nome': 'ncm_fat_agreg',\n",
    "        'url': 'https://balanca.economia.gov.br/balanca/bd/tabelas/NCM_FAT_AGREG.csv'\n",
    "    },\n",
    "    'tabela_ppe': {\n",
    "        'nome': 'ncm_ppe',\n",
    "        'url': 'https://balanca.economia.gov.br/balanca/bd/tabelas/NCM_PPE.csv'\n",
    "    },\n",
    "    'tabela_ppi': {\n",
    "        'nome': 'ncm_ppi',\n",
    "        'url': 'https://balanca.economia.gov.br/balanca/bd/tabelas/NCM_PPI.csv'\n",
    "    },\n",
    "    'tabela_unidade': {\n",
    "        'nome': 'ncm_unidade',\n",
    "        'url': 'https://balanca.economia.gov.br/balanca/bd/tabelas/NCM_UNIDADE.csv'\n",
    "    },\n",
    "    'tabela_nbm_ncm': {\n",
    "        'nome': 'nbm_ncm',\n",
    "        'url': 'https://balanca.economia.gov.br/balanca/bd/tabelas/NBM_NCM.csv'\n",
    "    },\n",
    "    'tabela_nbm': {\n",
    "        'nome': 'nbm',\n",
    "        'url': 'https://balanca.economia.gov.br/balanca/bd/tabelas/NBM.csv'\n",
    "    },\n",
    "    'tabela_uf': {\n",
    "        'nome': 'estados',\n",
    "        'url': 'https://balanca.economia.gov.br/balanca/bd/tabelas/UF.csv'\n",
    "    },\n",
    "    'tabela_via': {\n",
    "        'nome': 'via',\n",
    "        'url': 'https://balanca.economia.gov.br/balanca/bd/tabelas/VIA.csv'\n",
    "    },\n",
    "    'tabela_urf': {\n",
    "        'nome': 'urf',\n",
    "        'url': 'https://balanca.economia.gov.br/balanca/bd/tabelas/URF.csv'\n",
    "    },\n",
    "    'tabela_pais': {\n",
    "        'nome': 'paises',\n",
    "        'url': 'https://balanca.economia.gov.br/balanca/bd/tabelas/PAIS.csv'\n",
    "    },\n",
    "    'tabela_blocos': {\n",
    "        'nome': 'blocos',\n",
    "        'url': 'https://balanca.economia.gov.br/balanca/bd/tabelas/PAIS_BLOCO.csv'\n",
    "    },\n",
    "    'tabela_municipios': {\n",
    "        'nome': 'municipios',\n",
    "        'url': 'https://balanca.economia.gov.br/balanca/bd/tabelas/UF_MUN.csv'\n",
    "    }\n",
    "}\n"
   ]
  },
  {
   "cell_type": "code",
   "execution_count": 4,
   "metadata": {
    "application/vnd.databricks.v1+cell": {
     "cellMetadata": {
      "byteLimit": 2048000,
      "rowLimit": 10000
     },
     "inputWidgets": {},
     "nuid": "d687ab13-7452-41ac-adc4-ea3bc69ee643",
     "showTitle": false,
     "tableResultSettingsMap": {},
     "title": ""
    }
   },
   "outputs": [],
   "source": [
    "def import_full_export_import(url, caminho_delta, nome_tabela):\n",
    "    try:\n",
    "        # Requisição para obter o arquivo ZIP\n",
    "        response = requests.get(url)\n",
    "        response.raise_for_status()\n",
    "\n",
    "        # Abrir o conteúdo como ZIP\n",
    "        with zipfile.ZipFile(io.BytesIO(response.content)) as z:\n",
    "            print(\"Arquivos no zip:\", z.namelist())\n",
    "\n",
    "            # Abrir o primeiro arquivo dentro do ZIP\n",
    "            with z.open(z.namelist()[0]) as csv_file:\n",
    "                # Caminhos temporários para o DBFS e local\n",
    "                local_temp_path = \"/tmp/temp_file.csv\"  # Caminho local na máquina do driver\n",
    "                dbfs_temp_path = \"dbfs:/tmp/temp_file.csv\"\n",
    "\n",
    "                # Escreve temporariamente no driver local\n",
    "                with open(local_temp_path, 'wb') as f:\n",
    "                    f.write(csv_file.read())\n",
    "\n",
    "                # Se for no Databricks, mova o arquivo para o DBFS\n",
    "                if 'dbutils' in globals():  # Verifica se está no Databricks\n",
    "                    try:\n",
    "                        dbutils.fs.cp(f\"file:{local_temp_path}\", dbfs_temp_path)\n",
    "                    except Exception as e:\n",
    "                        print(f\"Erro ao mover o arquivo para DBFS: {e}\")\n",
    "                else:\n",
    "                    print(\"Ambiente local detectado, mantendo o arquivo local.\")\n",
    "\n",
    "                # Ler com Spark diretamente do DBFS ou local dependendo do ambiente\n",
    "                path_to_read = dbfs_temp_path if 'dbutils' in globals() else local_temp_path\n",
    "                df_spark = spark.read.csv(path_to_read, header=True, sep=';', inferSchema=True, encoding='latin1')\n",
    "\n",
    "                # Salva como tabela Delta\n",
    "                df_spark.write.format(\"delta\") \\\n",
    "                    .option(\"overwriteSchema\", True) \\\n",
    "                    .mode(\"overwrite\") \\\n",
    "                    .saveAsTable(f\"{caminho_delta}.{nome_tabela}\")\n",
    "\n",
    "                print(f\"Tabela {nome_tabela} salva com sucesso em: {caminho_delta}.{nome_tabela}\")\n",
    "\n",
    "                # Remove os arquivos temporários\n",
    "                os.remove(local_temp_path)\n",
    "                if 'dbutils' in globals():\n",
    "                    try:\n",
    "                        dbutils.fs.rm(dbfs_temp_path)\n",
    "                    except Exception as e:\n",
    "                        print(f\"Erro ao remover o arquivo do DBFS: {e}\")\n",
    "\n",
    "    except requests.exceptions.RequestException as e:\n",
    "        print(f\"Erro ao acessar a URL: {e}\")\n",
    "    except zipfile.BadZipFile as e:\n",
    "        print(f\"Erro ao abrir o arquivo ZIP: {e}\")\n",
    "    except Exception as e:\n",
    "        print(f\"Erro ao processar o arquivo CSV: {e}\")\n"
   ]
  },
  {
   "cell_type": "code",
   "execution_count": 5,
   "metadata": {
    "application/vnd.databricks.v1+cell": {
     "cellMetadata": {
      "byteLimit": 2048000,
      "rowLimit": 10000
     },
     "inputWidgets": {},
     "nuid": "84111aa2-9824-4236-af0a-3df0cc4a591f",
     "showTitle": false,
     "tableResultSettingsMap": {},
     "title": ""
    }
   },
   "outputs": [],
   "source": [
    "def baixar_csv(info):\n",
    "    url = info['url']\n",
    "    nome = info['nome']\n",
    "    \n",
    "    response = requests.get(url)\n",
    "    response.raise_for_status()\n",
    "    \n",
    "    df = pd.read_csv(StringIO(response.text), sep=';')\n",
    "    return nome, df\n",
    "\n",
    "def importar_table_assistants(dic_tabelas, nome_banco):\n",
    "\n",
    "    with ThreadPoolExecutor() as executor:\n",
    "        resultados = executor.map(baixar_csv, dic_tabelas.values())\n",
    "\n",
    "        for nome, df in resultados:\n",
    "            df_spark = spark.createDataFrame(df)\n",
    "            tabela = f\"{nome_banco}.{nome}\"\n",
    "            df_spark.write.format(\"delta\").option('overwriteSchema', True).mode(\"overwrite\").saveAsTable(tabela)\n",
    "            print(f\"{nome} salva como tabela: {tabela}\")"
   ]
  },
  {
   "cell_type": "code",
   "execution_count": 6,
   "metadata": {
    "application/vnd.databricks.v1+cell": {
     "cellMetadata": {
      "byteLimit": 2048000,
      "implicitDf": true,
      "rowLimit": 10000
     },
     "inputWidgets": {},
     "nuid": "cc9dffb4-6f73-4892-9534-090306f5238e",
     "showTitle": false,
     "tableResultSettingsMap": {},
     "title": ""
    }
   },
   "outputs": [
    {
     "data": {
      "text/plain": [
       "DataFrame[]"
      ]
     },
     "execution_count": 6,
     "metadata": {},
     "output_type": "execute_result"
    }
   ],
   "source": [
    "\n",
    "spark.sql(\"CREATE DATABASE IF NOT EXISTS bd_becomex LOCATION 'storage'\")"
   ]
  },
  {
   "cell_type": "code",
   "execution_count": 7,
   "metadata": {},
   "outputs": [
    {
     "name": "stderr",
     "output_type": "stream",
     "text": [
      "25/04/19 16:32:42 WARN SparkStringUtils: Truncated the string representation of a plan since it was too large. This behavior can be adjusted by setting 'spark.sql.debug.maxToStringFields'.\n",
      "                                                                                \r"
     ]
    },
    {
     "name": "stdout",
     "output_type": "stream",
     "text": [
      "ncm salva como tabela: bd_becomex.ncm\n"
     ]
    },
    {
     "name": "stderr",
     "output_type": "stream",
     "text": [
      "25/04/19 16:32:45 WARN TaskSetManager: Stage 4 contains a task of very large size (1148 KiB). The maximum recommended task size is 1000 KiB.\n",
      "Java HotSpot(TM) 64-Bit Server VM warning: CodeCache is full. Compiler has been disabled.\n",
      "Java HotSpot(TM) 64-Bit Server VM warning: Try increasing the code cache size using -XX:ReservedCodeCacheSize=\n"
     ]
    },
    {
     "name": "stdout",
     "output_type": "stream",
     "text": [
      "CodeCache: size=131072Kb used=43644Kb max_used=44203Kb free=87427Kb\n",
      " bounds [0x00000001071f8000, 0x0000000109d88000, 0x000000010f1f8000]\n",
      " total_blobs=16304 nmethods=15158 adapters=1056\n",
      " compilation: disabled (not enough contiguous free space left)\n",
      "sh salva como tabela: bd_becomex.sh\n",
      "ncm_cuci salva como tabela: bd_becomex.ncm_cuci\n",
      "ncm_isic salva como tabela: bd_becomex.ncm_isic\n",
      "isic_cuci salva como tabela: bd_becomex.isic_cuci\n",
      "ncm_cgce salva como tabela: bd_becomex.ncm_cgce\n",
      "ncm_fat_agreg salva como tabela: bd_becomex.ncm_fat_agreg\n",
      "ncm_ppe salva como tabela: bd_becomex.ncm_ppe\n"
     ]
    },
    {
     "name": "stderr",
     "output_type": "stream",
     "text": [
      "                                                                                \r"
     ]
    },
    {
     "name": "stdout",
     "output_type": "stream",
     "text": [
      "ncm_ppi salva como tabela: bd_becomex.ncm_ppi\n"
     ]
    },
    {
     "name": "stderr",
     "output_type": "stream",
     "text": [
      "                                                                                \r"
     ]
    },
    {
     "name": "stdout",
     "output_type": "stream",
     "text": [
      "ncm_unidade salva como tabela: bd_becomex.ncm_unidade\n"
     ]
    },
    {
     "name": "stderr",
     "output_type": "stream",
     "text": [
      "                                                                                \r"
     ]
    },
    {
     "name": "stdout",
     "output_type": "stream",
     "text": [
      "nbm_ncm salva como tabela: bd_becomex.nbm_ncm\n"
     ]
    },
    {
     "name": "stderr",
     "output_type": "stream",
     "text": [
      "                                                                                \r"
     ]
    },
    {
     "name": "stdout",
     "output_type": "stream",
     "text": [
      "nbm salva como tabela: bd_becomex.nbm\n"
     ]
    },
    {
     "name": "stderr",
     "output_type": "stream",
     "text": [
      "                                                                                \r"
     ]
    },
    {
     "name": "stdout",
     "output_type": "stream",
     "text": [
      "estados salva como tabela: bd_becomex.estados\n"
     ]
    },
    {
     "name": "stderr",
     "output_type": "stream",
     "text": [
      "                                                                                \r"
     ]
    },
    {
     "name": "stdout",
     "output_type": "stream",
     "text": [
      "via salva como tabela: bd_becomex.via\n"
     ]
    },
    {
     "name": "stderr",
     "output_type": "stream",
     "text": [
      "                                                                                \r"
     ]
    },
    {
     "name": "stdout",
     "output_type": "stream",
     "text": [
      "urf salva como tabela: bd_becomex.urf\n"
     ]
    },
    {
     "name": "stderr",
     "output_type": "stream",
     "text": [
      "                                                                                \r"
     ]
    },
    {
     "name": "stdout",
     "output_type": "stream",
     "text": [
      "paises salva como tabela: bd_becomex.paises\n"
     ]
    },
    {
     "name": "stderr",
     "output_type": "stream",
     "text": [
      "                                                                                \r"
     ]
    },
    {
     "name": "stdout",
     "output_type": "stream",
     "text": [
      "blocos salva como tabela: bd_becomex.blocos\n"
     ]
    },
    {
     "name": "stderr",
     "output_type": "stream",
     "text": [
      "                                                                                \r"
     ]
    },
    {
     "name": "stdout",
     "output_type": "stream",
     "text": [
      "municipios salva como tabela: bd_becomex.municipios\n"
     ]
    }
   ],
   "source": [
    "importar_table_assistants(dic_tabelas, \"bd_becomex\")"
   ]
  },
  {
   "cell_type": "code",
   "execution_count": 8,
   "metadata": {
    "application/vnd.databricks.v1+cell": {
     "cellMetadata": {
      "byteLimit": 2048000,
      "rowLimit": 10000
     },
     "inputWidgets": {},
     "nuid": "0e3e08cb-cb30-4a5a-9369-07b7b22b1593",
     "showTitle": false,
     "tableResultSettingsMap": {},
     "title": ""
    }
   },
   "outputs": [
    {
     "name": "stdout",
     "output_type": "stream",
     "text": [
      "Arquivos no zip: ['IMP_COMPLETA.csv']\n",
      "Ambiente local detectado, mantendo o arquivo local.\n"
     ]
    },
    {
     "name": "stderr",
     "output_type": "stream",
     "text": [
      "                                                                                \r"
     ]
    },
    {
     "name": "stdout",
     "output_type": "stream",
     "text": [
      "Tabela import salva com sucesso em: bd_becomex.import\n",
      "Arquivos no zip: ['EXP_COMPLETA.csv']\n",
      "Ambiente local detectado, mantendo o arquivo local.\n"
     ]
    },
    {
     "name": "stderr",
     "output_type": "stream",
     "text": [
      "[Stage 83:===================================>                    (32 + 8) / 50]\r"
     ]
    },
    {
     "name": "stdout",
     "output_type": "stream",
     "text": [
      "Tabela export salva com sucesso em: bd_becomex.export\n"
     ]
    },
    {
     "name": "stderr",
     "output_type": "stream",
     "text": [
      "                                                                                \r"
     ]
    }
   ],
   "source": [
    "#importar_table_assistants(dic_tabelas, \"bd_becomex\")\n",
    "import_full_export_import('https://balanca.economia.gov.br/balanca/bd/comexstat-bd/ncm/IMP_COMPLETA.zip', 'bd_becomex', 'import') # importação\n",
    "import_full_export_import('https://balanca.economia.gov.br/balanca/bd/comexstat-bd/ncm/EXP_COMPLETA.zip', 'bd_becomex', 'export') # exportação"
   ]
  },
  {
   "cell_type": "code",
   "execution_count": null,
   "metadata": {},
   "outputs": [],
   "source": [
    "SELECT fi.*, nj.* -- ou selecione colunas específicas, exceto CO_UNID\n",
    "FROM bd_becomex.import fi\n",
    "INNER JOIN ncm_unidade nu ON fi.CO_UNID = nu.CO_UNID\n",
    "INNER JOIN urf u ON fi.CO_URF = u.CO_URF\n",
    "INNER JOIN paises p ON fi.CO_PAIS = p.CO_PAIS\n",
    "INNER JOIN via v ON fi.CO_VIA = v.CO_VIA\n",
    "INNER JOIN (\n",
    "    SELECT n.*\n",
    "    FROM ncm n\n",
    "    INNER JOIN sh s ON n.CO_SH6 = s.CO_SH6\n",
    "    INNER JOIN ncm_ppe np ON n.CO_PPE = np.CO_PPE\n",
    "    INNER JOIN ncm_ppi npi ON n.CO_PPI = npi.CO_PPI\n",
    "    INNER JOIN ncm_fat_agreg nfa ON n.CO_FAT_AGREG = nfa.CO_FAT_AGREG\n",
    "    INNER JOIN ncm_cuci nc ON n.CO_CUCI_ITEM = nc.CO_CUCI_ITEM\n",
    "    INNER JOIN ncm_cgce ncg ON n.CO_CGCE_N3 = ncg.CO_CGCE_N3\n",
    "    INNER JOIN ncm_isic ni ON n.CO_ISIC_CLASSE = ni.CO_ISIC_CLASSE\n",
    ") nj ON fi.CO_NCM = nj.CO_NCM"
   ]
  },
  {
   "cell_type": "code",
   "execution_count": null,
   "metadata": {},
   "outputs": [],
   "source": []
  },
  {
   "cell_type": "code",
   "execution_count": 9,
   "metadata": {},
   "outputs": [
    {
     "name": "stderr",
     "output_type": "stream",
     "text": [
      "                                                                                \r"
     ]
    },
    {
     "data": {
      "text/html": [
       "<div>\n",
       "<style scoped>\n",
       "    .dataframe tbody tr th:only-of-type {\n",
       "        vertical-align: middle;\n",
       "    }\n",
       "\n",
       "    .dataframe tbody tr th {\n",
       "        vertical-align: top;\n",
       "    }\n",
       "\n",
       "    .dataframe thead th {\n",
       "        text-align: right;\n",
       "    }\n",
       "</style>\n",
       "<table border=\"1\" class=\"dataframe\">\n",
       "  <thead>\n",
       "    <tr style=\"text-align: right;\">\n",
       "      <th></th>\n",
       "      <th>CO_ANO</th>\n",
       "      <th>CO_MES</th>\n",
       "      <th>CO_NCM</th>\n",
       "      <th>CO_UNID</th>\n",
       "      <th>CO_PAIS</th>\n",
       "      <th>SG_UF_NCM</th>\n",
       "      <th>CO_VIA</th>\n",
       "      <th>CO_URF</th>\n",
       "      <th>QT_ESTAT</th>\n",
       "      <th>KG_LIQUIDO</th>\n",
       "      <th>...</th>\n",
       "      <th>NO_ISIC_GRUPO_ING</th>\n",
       "      <th>NO_ISIC_GRUPO_ESP</th>\n",
       "      <th>CO_ISIC_DIVISAO</th>\n",
       "      <th>NO_ISIC_DIVISAO</th>\n",
       "      <th>NO_ISIC_DIVISAO_ING</th>\n",
       "      <th>NO_ISIC_DIVISAO_ESP</th>\n",
       "      <th>CO_ISIC_SECAO</th>\n",
       "      <th>NO_ISIC_SECAO</th>\n",
       "      <th>NO_ISIC_SECAO_ING</th>\n",
       "      <th>NO_ISIC_SECAO_ESP</th>\n",
       "    </tr>\n",
       "  </thead>\n",
       "  <tbody>\n",
       "    <tr>\n",
       "      <th>0</th>\n",
       "      <td>2020</td>\n",
       "      <td>7</td>\n",
       "      <td>85114000</td>\n",
       "      <td>11</td>\n",
       "      <td>249</td>\n",
       "      <td>AM</td>\n",
       "      <td>1</td>\n",
       "      <td>227600</td>\n",
       "      <td>378</td>\n",
       "      <td>1208</td>\n",
       "      <td>...</td>\n",
       "      <td>Manufacture of parts and accessories for motor...</td>\n",
       "      <td>Fabricação de peças e acessórios para veículos...</td>\n",
       "      <td>29</td>\n",
       "      <td>Fabricação de veículos automóveis, reboques e ...</td>\n",
       "      <td>Manufacture of motor vehicles, trailers and se...</td>\n",
       "      <td>Fabricação de veículos automóveis, reboques e ...</td>\n",
       "      <td>C</td>\n",
       "      <td>Indústria de Transformação</td>\n",
       "      <td>Manufacturing</td>\n",
       "      <td>Indústria de Transformação</td>\n",
       "    </tr>\n",
       "    <tr>\n",
       "      <th>1</th>\n",
       "      <td>2020</td>\n",
       "      <td>3</td>\n",
       "      <td>73102190</td>\n",
       "      <td>10</td>\n",
       "      <td>275</td>\n",
       "      <td>SP</td>\n",
       "      <td>1</td>\n",
       "      <td>817800</td>\n",
       "      <td>10758</td>\n",
       "      <td>10758</td>\n",
       "      <td>...</td>\n",
       "      <td>Manufacture of other fabricated metal products...</td>\n",
       "      <td>Fabricação de outros produtos metálicos fabric...</td>\n",
       "      <td>25</td>\n",
       "      <td>Fabricação de produtos metálicos fabricados, e...</td>\n",
       "      <td>Manufacture of fabricated metal products, exce...</td>\n",
       "      <td>Fabricação de produtos metálicos fabricados, e...</td>\n",
       "      <td>C</td>\n",
       "      <td>Indústria de Transformação</td>\n",
       "      <td>Manufacturing</td>\n",
       "      <td>Indústria de Transformação</td>\n",
       "    </tr>\n",
       "    <tr>\n",
       "      <th>2</th>\n",
       "      <td>2020</td>\n",
       "      <td>10</td>\n",
       "      <td>68042219</td>\n",
       "      <td>10</td>\n",
       "      <td>249</td>\n",
       "      <td>RJ</td>\n",
       "      <td>4</td>\n",
       "      <td>717700</td>\n",
       "      <td>1</td>\n",
       "      <td>1</td>\n",
       "      <td>...</td>\n",
       "      <td>Manufacture of non-metallic mineral products n...</td>\n",
       "      <td>Fabricação de produtos minerais não metálicos n.c</td>\n",
       "      <td>23</td>\n",
       "      <td>Fabricação de outros produtos minerais não met...</td>\n",
       "      <td>Manufacture of other non-metallic mineral prod...</td>\n",
       "      <td>Fabricação de outros produtos minerais não met...</td>\n",
       "      <td>C</td>\n",
       "      <td>Indústria de Transformação</td>\n",
       "      <td>Manufacturing</td>\n",
       "      <td>Indústria de Transformação</td>\n",
       "    </tr>\n",
       "    <tr>\n",
       "      <th>3</th>\n",
       "      <td>2020</td>\n",
       "      <td>3</td>\n",
       "      <td>85413019</td>\n",
       "      <td>11</td>\n",
       "      <td>23</td>\n",
       "      <td>AL</td>\n",
       "      <td>4</td>\n",
       "      <td>817600</td>\n",
       "      <td>48</td>\n",
       "      <td>12</td>\n",
       "      <td>...</td>\n",
       "      <td>Manufacture of electronic components and boards</td>\n",
       "      <td>Fabricação de componentes eletrônicos e placas</td>\n",
       "      <td>26</td>\n",
       "      <td>Fabricação de produtos informáticos, eletrônic...</td>\n",
       "      <td>Manufacture of computer, electronic and optica...</td>\n",
       "      <td>Fabricação de produtos informáticos, eletrônic...</td>\n",
       "      <td>C</td>\n",
       "      <td>Indústria de Transformação</td>\n",
       "      <td>Manufacturing</td>\n",
       "      <td>Indústria de Transformação</td>\n",
       "    </tr>\n",
       "    <tr>\n",
       "      <th>4</th>\n",
       "      <td>2020</td>\n",
       "      <td>8</td>\n",
       "      <td>84483290</td>\n",
       "      <td>10</td>\n",
       "      <td>23</td>\n",
       "      <td>MT</td>\n",
       "      <td>4</td>\n",
       "      <td>817600</td>\n",
       "      <td>1</td>\n",
       "      <td>1</td>\n",
       "      <td>...</td>\n",
       "      <td>Manufacture of special-purpose machinery</td>\n",
       "      <td>Fabricação de máquinas para fins especiais</td>\n",
       "      <td>28</td>\n",
       "      <td>Fabricação de máquinas e equipamentos n.c</td>\n",
       "      <td>Manufacture of machinery and equipment n.e.c.</td>\n",
       "      <td>Fabricação de máquinas e equipamentos n.c</td>\n",
       "      <td>C</td>\n",
       "      <td>Indústria de Transformação</td>\n",
       "      <td>Manufacturing</td>\n",
       "      <td>Indústria de Transformação</td>\n",
       "    </tr>\n",
       "    <tr>\n",
       "      <th>5</th>\n",
       "      <td>2020</td>\n",
       "      <td>2</td>\n",
       "      <td>84716053</td>\n",
       "      <td>11</td>\n",
       "      <td>351</td>\n",
       "      <td>RO</td>\n",
       "      <td>1</td>\n",
       "      <td>717800</td>\n",
       "      <td>5000</td>\n",
       "      <td>654</td>\n",
       "      <td>...</td>\n",
       "      <td>Manufacture of computers and peripheral equipment</td>\n",
       "      <td>Fabricação de computadores e equipamentos peri...</td>\n",
       "      <td>26</td>\n",
       "      <td>Fabricação de produtos informáticos, eletrônic...</td>\n",
       "      <td>Manufacture of computer, electronic and optica...</td>\n",
       "      <td>Fabricação de produtos informáticos, eletrônic...</td>\n",
       "      <td>C</td>\n",
       "      <td>Indústria de Transformação</td>\n",
       "      <td>Manufacturing</td>\n",
       "      <td>Indústria de Transformação</td>\n",
       "    </tr>\n",
       "    <tr>\n",
       "      <th>6</th>\n",
       "      <td>2020</td>\n",
       "      <td>1</td>\n",
       "      <td>59019000</td>\n",
       "      <td>10</td>\n",
       "      <td>160</td>\n",
       "      <td>RO</td>\n",
       "      <td>1</td>\n",
       "      <td>917800</td>\n",
       "      <td>51726</td>\n",
       "      <td>51726</td>\n",
       "      <td>...</td>\n",
       "      <td>Manufacture of other textiles</td>\n",
       "      <td>Fabricação de outros têxteis</td>\n",
       "      <td>13</td>\n",
       "      <td>Fabricação de têxteis</td>\n",
       "      <td>Manufacture of textiles</td>\n",
       "      <td>Fabricação de têxteis</td>\n",
       "      <td>C</td>\n",
       "      <td>Indústria de Transformação</td>\n",
       "      <td>Manufacturing</td>\n",
       "      <td>Indústria de Transformação</td>\n",
       "    </tr>\n",
       "    <tr>\n",
       "      <th>7</th>\n",
       "      <td>2020</td>\n",
       "      <td>8</td>\n",
       "      <td>84213100</td>\n",
       "      <td>11</td>\n",
       "      <td>72</td>\n",
       "      <td>SP</td>\n",
       "      <td>4</td>\n",
       "      <td>817700</td>\n",
       "      <td>1</td>\n",
       "      <td>1</td>\n",
       "      <td>...</td>\n",
       "      <td>Manufacture of general-purpose machinery</td>\n",
       "      <td>Fabricação de máquinas de uso geral</td>\n",
       "      <td>28</td>\n",
       "      <td>Fabricação de máquinas e equipamentos n.c</td>\n",
       "      <td>Manufacture of machinery and equipment n.e.c.</td>\n",
       "      <td>Fabricação de máquinas e equipamentos n.c</td>\n",
       "      <td>C</td>\n",
       "      <td>Indústria de Transformação</td>\n",
       "      <td>Manufacturing</td>\n",
       "      <td>Indústria de Transformação</td>\n",
       "    </tr>\n",
       "    <tr>\n",
       "      <th>8</th>\n",
       "      <td>2020</td>\n",
       "      <td>2</td>\n",
       "      <td>85437099</td>\n",
       "      <td>11</td>\n",
       "      <td>493</td>\n",
       "      <td>PR</td>\n",
       "      <td>1</td>\n",
       "      <td>817800</td>\n",
       "      <td>576</td>\n",
       "      <td>24</td>\n",
       "      <td>...</td>\n",
       "      <td>Manufacture of other electrical equipment</td>\n",
       "      <td>Fabricação de outro equipamento elétrico</td>\n",
       "      <td>27</td>\n",
       "      <td>Fabricação de equipamentos elétricos</td>\n",
       "      <td>Manufacture of electrical equipment</td>\n",
       "      <td>Fabricação de equipamentos elétricos</td>\n",
       "      <td>C</td>\n",
       "      <td>Indústria de Transformação</td>\n",
       "      <td>Manufacturing</td>\n",
       "      <td>Indústria de Transformação</td>\n",
       "    </tr>\n",
       "    <tr>\n",
       "      <th>9</th>\n",
       "      <td>2020</td>\n",
       "      <td>12</td>\n",
       "      <td>85322390</td>\n",
       "      <td>11</td>\n",
       "      <td>351</td>\n",
       "      <td>AM</td>\n",
       "      <td>4</td>\n",
       "      <td>227700</td>\n",
       "      <td>421510</td>\n",
       "      <td>89</td>\n",
       "      <td>...</td>\n",
       "      <td>Manufacture of electronic components and boards</td>\n",
       "      <td>Fabricação de componentes eletrônicos e placas</td>\n",
       "      <td>26</td>\n",
       "      <td>Fabricação de produtos informáticos, eletrônic...</td>\n",
       "      <td>Manufacture of computer, electronic and optica...</td>\n",
       "      <td>Fabricação de produtos informáticos, eletrônic...</td>\n",
       "      <td>C</td>\n",
       "      <td>Indústria de Transformação</td>\n",
       "      <td>Manufacturing</td>\n",
       "      <td>Indústria de Transformação</td>\n",
       "    </tr>\n",
       "  </tbody>\n",
       "</table>\n",
       "<p>10 rows × 105 columns</p>\n",
       "</div>"
      ],
      "text/plain": [
       "   CO_ANO  CO_MES    CO_NCM  CO_UNID  CO_PAIS SG_UF_NCM  CO_VIA  CO_URF  \\\n",
       "0    2020       7  85114000       11      249        AM       1  227600   \n",
       "1    2020       3  73102190       10      275        SP       1  817800   \n",
       "2    2020      10  68042219       10      249        RJ       4  717700   \n",
       "3    2020       3  85413019       11       23        AL       4  817600   \n",
       "4    2020       8  84483290       10       23        MT       4  817600   \n",
       "5    2020       2  84716053       11      351        RO       1  717800   \n",
       "6    2020       1  59019000       10      160        RO       1  917800   \n",
       "7    2020       8  84213100       11       72        SP       4  817700   \n",
       "8    2020       2  85437099       11      493        PR       1  817800   \n",
       "9    2020      12  85322390       11      351        AM       4  227700   \n",
       "\n",
       "   QT_ESTAT  KG_LIQUIDO  ...  \\\n",
       "0       378        1208  ...   \n",
       "1     10758       10758  ...   \n",
       "2         1           1  ...   \n",
       "3        48          12  ...   \n",
       "4         1           1  ...   \n",
       "5      5000         654  ...   \n",
       "6     51726       51726  ...   \n",
       "7         1           1  ...   \n",
       "8       576          24  ...   \n",
       "9    421510          89  ...   \n",
       "\n",
       "                                   NO_ISIC_GRUPO_ING  \\\n",
       "0  Manufacture of parts and accessories for motor...   \n",
       "1  Manufacture of other fabricated metal products...   \n",
       "2  Manufacture of non-metallic mineral products n...   \n",
       "3    Manufacture of electronic components and boards   \n",
       "4           Manufacture of special-purpose machinery   \n",
       "5  Manufacture of computers and peripheral equipment   \n",
       "6                      Manufacture of other textiles   \n",
       "7           Manufacture of general-purpose machinery   \n",
       "8          Manufacture of other electrical equipment   \n",
       "9    Manufacture of electronic components and boards   \n",
       "\n",
       "                                   NO_ISIC_GRUPO_ESP  CO_ISIC_DIVISAO  \\\n",
       "0  Fabricação de peças e acessórios para veículos...               29   \n",
       "1  Fabricação de outros produtos metálicos fabric...               25   \n",
       "2  Fabricação de produtos minerais não metálicos n.c               23   \n",
       "3     Fabricação de componentes eletrônicos e placas               26   \n",
       "4         Fabricação de máquinas para fins especiais               28   \n",
       "5  Fabricação de computadores e equipamentos peri...               26   \n",
       "6                       Fabricação de outros têxteis               13   \n",
       "7                Fabricação de máquinas de uso geral               28   \n",
       "8           Fabricação de outro equipamento elétrico               27   \n",
       "9     Fabricação de componentes eletrônicos e placas               26   \n",
       "\n",
       "                                     NO_ISIC_DIVISAO  \\\n",
       "0  Fabricação de veículos automóveis, reboques e ...   \n",
       "1  Fabricação de produtos metálicos fabricados, e...   \n",
       "2  Fabricação de outros produtos minerais não met...   \n",
       "3  Fabricação de produtos informáticos, eletrônic...   \n",
       "4          Fabricação de máquinas e equipamentos n.c   \n",
       "5  Fabricação de produtos informáticos, eletrônic...   \n",
       "6                              Fabricação de têxteis   \n",
       "7          Fabricação de máquinas e equipamentos n.c   \n",
       "8               Fabricação de equipamentos elétricos   \n",
       "9  Fabricação de produtos informáticos, eletrônic...   \n",
       "\n",
       "                                 NO_ISIC_DIVISAO_ING  \\\n",
       "0  Manufacture of motor vehicles, trailers and se...   \n",
       "1  Manufacture of fabricated metal products, exce...   \n",
       "2  Manufacture of other non-metallic mineral prod...   \n",
       "3  Manufacture of computer, electronic and optica...   \n",
       "4      Manufacture of machinery and equipment n.e.c.   \n",
       "5  Manufacture of computer, electronic and optica...   \n",
       "6                            Manufacture of textiles   \n",
       "7      Manufacture of machinery and equipment n.e.c.   \n",
       "8                Manufacture of electrical equipment   \n",
       "9  Manufacture of computer, electronic and optica...   \n",
       "\n",
       "                                 NO_ISIC_DIVISAO_ESP  CO_ISIC_SECAO  \\\n",
       "0  Fabricação de veículos automóveis, reboques e ...              C   \n",
       "1  Fabricação de produtos metálicos fabricados, e...              C   \n",
       "2  Fabricação de outros produtos minerais não met...              C   \n",
       "3  Fabricação de produtos informáticos, eletrônic...              C   \n",
       "4          Fabricação de máquinas e equipamentos n.c              C   \n",
       "5  Fabricação de produtos informáticos, eletrônic...              C   \n",
       "6                              Fabricação de têxteis              C   \n",
       "7          Fabricação de máquinas e equipamentos n.c              C   \n",
       "8               Fabricação de equipamentos elétricos              C   \n",
       "9  Fabricação de produtos informáticos, eletrônic...              C   \n",
       "\n",
       "                NO_ISIC_SECAO  NO_ISIC_SECAO_ING           NO_ISIC_SECAO_ESP  \n",
       "0  Indústria de Transformação      Manufacturing  Indústria de Transformação  \n",
       "1  Indústria de Transformação      Manufacturing  Indústria de Transformação  \n",
       "2  Indústria de Transformação      Manufacturing  Indústria de Transformação  \n",
       "3  Indústria de Transformação      Manufacturing  Indústria de Transformação  \n",
       "4  Indústria de Transformação      Manufacturing  Indústria de Transformação  \n",
       "5  Indústria de Transformação      Manufacturing  Indústria de Transformação  \n",
       "6  Indústria de Transformação      Manufacturing  Indústria de Transformação  \n",
       "7  Indústria de Transformação      Manufacturing  Indústria de Transformação  \n",
       "8  Indústria de Transformação      Manufacturing  Indústria de Transformação  \n",
       "9  Indústria de Transformação      Manufacturing  Indústria de Transformação  \n",
       "\n",
       "[10 rows x 105 columns]"
      ]
     },
     "execution_count": 9,
     "metadata": {},
     "output_type": "execute_result"
    }
   ],
   "source": [
    "spark.sql(\"\"\"\n",
    "\n",
    "SELECT *\n",
    "FROM bd_becomex.import i\n",
    "JOIN bd_becomex.ncm_unidade nu ON i.CO_UNID = nu.CO_UNID\n",
    "JOIN bd_becomex.urf u ON i.CO_URF = u.CO_URF\n",
    "JOIN bd_becomex.paises p ON i.CO_PAIS = p.CO_PAIS\n",
    "JOIN bd_becomex.via v ON i.CO_VIA = v.CO_VIA\n",
    "JOIN bd_becomex.ncm n ON i.CO_NCM = n.CO_NCM\n",
    "JOIN bd_becomex.sh sh ON n.CO_SH6 = sh.CO_SH6\n",
    "JOIN bd_becomex.ncm_ppe ppe ON n.CO_PPE = ppe.CO_PPE\n",
    "JOIN bd_becomex.ncm_ppi ppi ON n.CO_PPI = ppi.CO_PPI\n",
    "JOIN bd_becomex.ncm_fat_agreg fa ON n.CO_FAT_AGREG = fa.CO_FAT_AGREG\n",
    "JOIN bd_becomex.ncm_cuci cuci ON n.CO_CUCI_ITEM = cuci.CO_CUCI_ITEM\n",
    "JOIN bd_becomex.ncm_cgce cgce ON n.CO_CGCE_N3 = cgce.CO_CGCE_N3\n",
    "JOIN bd_becomex.ncm_isic isic ON n.CO_ISIC_CLASSE = isic.CO_ISIC_CLASSE;\n",
    "\n",
    "\n",
    "\n",
    "\"\"\").limit(10).toPandas()"
   ]
  },
  {
   "cell_type": "code",
   "execution_count": 10,
   "metadata": {
    "application/vnd.databricks.v1+cell": {
     "cellMetadata": {
      "byteLimit": 2048000,
      "rowLimit": 10000
     },
     "inputWidgets": {},
     "nuid": "46ad8e2f-360e-42b6-b459-39c60b685e17",
     "showTitle": false,
     "tableResultSettingsMap": {},
     "title": ""
    }
   },
   "outputs": [],
   "source": [
    "#ncm_joined = (\n",
    "#    ncm\n",
    "#    .join(sh, on='CO_SH6', how='inner')\n",
    "#    .join(ncm_ppe, on='CO_PPE', how='inner')\n",
    "#    .join(ncm_ppi, on='CO_PPI', how='inner')\n",
    "#    .join(ncm_fat_agreg, on='CO_FAT_AGREG', how='inner')\n",
    "#    .join(ncm_cuci, on='CO_CUCI_ITEM', how='inner')\n",
    "#    .join(ncm_cgce, on='CO_CGCE_N3', how='inner')\n",
    "#    .join(ncm_isic, on='CO_ISIC_CLASSE', how='inner')\n",
    "#)\n",
    "#\n",
    "#fat_import = spark.read.format(\"delta\").table(\"bd_becomex.import\")\n",
    "#\n",
    "#fat_import_joined = (\n",
    "#    fat_import\n",
    "#    .join(ncm_unidade, on='CO_UNID', how='inner')\n",
    "#    .join(urf, on='CO_URF', how='inner')\n",
    "#    .join(paises, on='CO_PAIS', how='inner')\n",
    "#    .join(via, on='CO_VIA', how='inner')\n",
    "#)\n",
    "#\n",
    "#fat_export = spark.read.format(\"delta\").table(\"bd_becomex.export\")\n",
    "#\n",
    "#fat_export_joined = (\n",
    "#    fat_export\n",
    "#    .join(ncm_unidade, on='CO_UNID', how='inner')\n",
    "#    .join(urf, on='CO_URF', how='inner')\n",
    "#    .join(paises, on='CO_PAIS', how='inner')\n",
    "#    .join(via, on='CO_VIA', how='inner')\n",
    "#)\n",
    "#\n",
    "#total_import = (\n",
    "#    fat_import_joined\n",
    "#    .merge(ncm_joined, left_on='CO_NCM', right_on='CO_NCM', how='inner')\n",
    "#)\n",
    "#total_import = total_import.drop(\"CO_UNID\")"
   ]
  },
  {
   "cell_type": "code",
   "execution_count": 11,
   "metadata": {
    "application/vnd.databricks.v1+cell": {
     "cellMetadata": {
      "byteLimit": 2048000,
      "rowLimit": 10000
     },
     "inputWidgets": {},
     "nuid": "6d267028-e8a7-40d1-85b8-c01b109acf26",
     "showTitle": true,
     "tableResultSettingsMap": {},
     "title": "import"
    }
   },
   "outputs": [],
   "source": [
    "#fat_import = spark.read.format(\"delta\").table(\"bd_becomex.import\")\n",
    "#\n",
    "#fat_import_joined = (\n",
    "#    fat_import\n",
    "#    .join(ncm_unidade, on='CO_UNID', how='inner')\n",
    "#    .join(urf, on='CO_URF', how='inner')\n",
    "#    .join(paises, on='CO_PAIS', how='inner')\n",
    "#    .join(via, on='CO_VIA', how='inner')\n",
    "#)\n",
    "#"
   ]
  },
  {
   "cell_type": "code",
   "execution_count": 12,
   "metadata": {
    "application/vnd.databricks.v1+cell": {
     "cellMetadata": {
      "byteLimit": 2048000,
      "rowLimit": 10000
     },
     "inputWidgets": {},
     "nuid": "f4873aca-a79c-40df-b510-39b160552b36",
     "showTitle": true,
     "tableResultSettingsMap": {},
     "title": "export"
    }
   },
   "outputs": [],
   "source": [
    "#fat_export = spark.read.format(\"delta\").table(\"bd_becomex.export\")\n",
    "#\n",
    "#fat_export_joined = (\n",
    "#    fat_export\n",
    "#    .join(ncm_unidade, on='CO_UNID', how='inner')\n",
    "#    .join(urf, on='CO_URF', how='inner')\n",
    "#    .join(paises, on='CO_PAIS', how='inner')\n",
    "#    .join(via, on='CO_VIA', how='inner')\n",
    "#)\n"
   ]
  },
  {
   "cell_type": "code",
   "execution_count": 13,
   "metadata": {
    "application/vnd.databricks.v1+cell": {
     "cellMetadata": {
      "byteLimit": 2048000,
      "rowLimit": 10000
     },
     "inputWidgets": {},
     "nuid": "89f11267-662a-4ff7-a5d5-40a0c240274e",
     "showTitle": true,
     "tableResultSettingsMap": {},
     "title": "import"
    }
   },
   "outputs": [],
   "source": [
    "#total_import = (\n",
    "#    fat_import_joined\n",
    "#    .merge(ncm_joined, left_on='CO_NCM', right_on='CO_NCM', how='inner')\n",
    "#)\n",
    "#total_import = total_import.drop(\"CO_UNID\")"
   ]
  },
  {
   "cell_type": "code",
   "execution_count": 14,
   "metadata": {
    "application/vnd.databricks.v1+cell": {
     "cellMetadata": {
      "byteLimit": 2048000,
      "rowLimit": 10000
     },
     "inputWidgets": {},
     "nuid": "6c5e45df-331f-467f-8851-ff5f111037b9",
     "showTitle": true,
     "tableResultSettingsMap": {},
     "title": "export"
    }
   },
   "outputs": [],
   "source": [
    "#total_export = (\n",
    "#    fat_export_joined\n",
    "#    .merge(ncm_joined, left_on='CO_NCM', right_on='CO_NCM', how='inner')\n",
    "#)\n",
    "#total_export = total_export.drop(\"CO_UNID\")"
   ]
  },
  {
   "cell_type": "code",
   "execution_count": 15,
   "metadata": {
    "application/vnd.databricks.v1+cell": {
     "cellMetadata": {},
     "inputWidgets": {},
     "nuid": "34a98737-170d-4e7f-8eb8-91ed9d1b0947",
     "showTitle": false,
     "tableResultSettingsMap": {},
     "title": ""
    }
   },
   "outputs": [],
   "source": [
    "#%sql\n",
    "#OPTIMIZE bd_becomex.Baseimport;\n",
    "#OPTIMIZE bd_becomex.Baseexport;"
   ]
  },
  {
   "cell_type": "code",
   "execution_count": 16,
   "metadata": {},
   "outputs": [
    {
     "data": {
      "text/html": [
       "<div>\n",
       "<style scoped>\n",
       "    .dataframe tbody tr th:only-of-type {\n",
       "        vertical-align: middle;\n",
       "    }\n",
       "\n",
       "    .dataframe tbody tr th {\n",
       "        vertical-align: top;\n",
       "    }\n",
       "\n",
       "    .dataframe thead th {\n",
       "        text-align: right;\n",
       "    }\n",
       "</style>\n",
       "<table border=\"1\" class=\"dataframe\">\n",
       "  <thead>\n",
       "    <tr style=\"text-align: right;\">\n",
       "      <th></th>\n",
       "      <th>count(1)</th>\n",
       "    </tr>\n",
       "  </thead>\n",
       "  <tbody>\n",
       "    <tr>\n",
       "      <th>0</th>\n",
       "      <td>322</td>\n",
       "    </tr>\n",
       "  </tbody>\n",
       "</table>\n",
       "</div>"
      ],
      "text/plain": [
       "   count(1)\n",
       "0       322"
      ]
     },
     "execution_count": 16,
     "metadata": {},
     "output_type": "execute_result"
    }
   ],
   "source": [
    "spark.sql(\"\"\"\n",
    "\n",
    "\n",
    "select count(*) from bd_becomex.blocos\n",
    "\n",
    "\n",
    "\"\"\").limit(10).toPandas()"
   ]
  }
 ],
 "metadata": {
  "application/vnd.databricks.v1+notebook": {
   "computePreferences": null,
   "dashboards": [],
   "environmentMetadata": {
    "base_environment": "",
    "environment_version": "2"
   },
   "inputWidgetPreferences": null,
   "language": "python",
   "notebookMetadata": {
    "mostRecentlyExecutedCommandWithImplicitDF": {
     "commandId": 7222596770261149,
     "dataframes": [
      "_sqldf"
     ]
    },
    "pythonIndentUnit": 2
   },
   "notebookName": "extract",
   "widgets": {}
  },
  "kernelspec": {
   "display_name": "base",
   "language": "python",
   "name": "python3"
  },
  "language_info": {
   "codemirror_mode": {
    "name": "ipython",
    "version": 3
   },
   "file_extension": ".py",
   "mimetype": "text/x-python",
   "name": "python",
   "nbconvert_exporter": "python",
   "pygments_lexer": "ipython3",
   "version": "3.12.7"
  }
 },
 "nbformat": 4,
 "nbformat_minor": 0
}
