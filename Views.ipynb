{
 "cells": [
  {
   "cell_type": "code",
   "execution_count": 0,
   "metadata": {
    "application/vnd.databricks.v1+cell": {
     "cellMetadata": {
      "byteLimit": 2048000,
      "implicitDf": true,
      "rowLimit": 10000
     },
     "inputWidgets": {},
     "nuid": "d68e89b8-9763-4cda-ab1e-3bc71130a209",
     "showTitle": false,
     "tableResultSettingsMap": {},
     "title": ""
    }
   },
   "outputs": [],
   "source": [
    "%sql\n",
    "USE hive_metastore.bd_becomex"
   ]
  },
  {
   "cell_type": "code",
   "execution_count": 0,
   "metadata": {
    "application/vnd.databricks.v1+cell": {
     "cellMetadata": {
      "byteLimit": 2048000,
      "implicitDf": true,
      "rowLimit": 10000
     },
     "inputWidgets": {},
     "nuid": "05ff266b-a304-41f2-b610-9e58e30d3899",
     "showTitle": false,
     "tableResultSettingsMap": {},
     "title": ""
    }
   },
   "outputs": [],
   "source": [
    "df = spark.sql(\"\"\"\n",
    "\n",
    "WITH ncm_joined AS (\n",
    "    SELECT \n",
    "    n.CO_NCM\n",
    "    ,n.NO_NCM_POR\n",
    "    ,ni.NO_ISIC_CLASSE\n",
    "    ,ni.NO_ISIC_GRUPO\n",
    "    ,ni.CO_ISIC_DIVISAO\n",
    "    ,ni.NO_ISIC_DIVISAO\n",
    "    ,ni.NO_ISIC_SECAO\n",
    "    ,s.NO_SH6_POR\n",
    "    ,s.CO_SH4\n",
    "    ,s.NO_SH4_POR\n",
    "    ,s.CO_SH2\n",
    "    ,s.NO_SH2_POR\n",
    "    ,s.CO_NCM_SECROM\n",
    "    ,s.NO_SEC_POR\n",
    "    ,np.NO_PPE\n",
    "    ,npi.NO_PPI\n",
    "    ,nfa.NO_FAT_AGREG\n",
    "    ,nc.NO_CUCI_ITEM\n",
    "    ,nc.CO_CUCI_SUB\n",
    "    ,nc.NO_CUCI_SUB\n",
    "    ,nc.CO_CUCI_GRUPO\n",
    "    ,nc.NO_CUCI_SEC\n",
    "    ,ncg.NO_CGCE_N3\n",
    "    ,ncg.NO_CGCE_N2\n",
    "    ,ncg.NO_CGCE_N1\n",
    "\n",
    "    FROM ncm n\n",
    "    INNER JOIN sh s ON n.CO_SH6 = s.CO_SH6\n",
    "    INNER JOIN ncm_ppe np ON n.CO_PPE = np.CO_PPE\n",
    "    INNER JOIN ncm_ppi npi ON n.CO_PPI = npi.CO_PPI\n",
    "    INNER JOIN ncm_fat_agreg nfa ON n.CO_FAT_AGREG = nfa.CO_FAT_AGREG\n",
    "    INNER JOIN ncm_cuci nc ON n.CO_CUCI_ITEM = nc.CO_CUCI_ITEM\n",
    "    INNER JOIN ncm_cgce ncg ON n.CO_CGCE_N3 = ncg.CO_CGCE_N3\n",
    "    INNER JOIN ncm_isic ni ON n.CO_ISIC_CLASSE = ni.CO_ISIC_CLASSE\n",
    "),\n",
    "fat_export_joined AS (\n",
    "    SELECT \n",
    "    fi.VL_FOB\n",
    "    ,fi.VL_FRETE\n",
    "    ,fi.VL_SEGURO\n",
    "    ,fi.KG_LIQUIDO\n",
    "    ,fi.QT_ESTAT\n",
    "    ,u.NO_URF\n",
    "    ,bl.NO_BLOCO\n",
    "    ,p.CO_PAIS_ISOA3\n",
    "    ,p.NO_PAIS\n",
    "    ,v.NO_VIA\n",
    "    ,fi.CO_NCM\n",
    "    ,fi.CO_ANO\n",
    "    ,fi.CO_MES\n",
    "    ,fi.CO_UNID\n",
    "\n",
    "FROM bd_becomex.import fi\n",
    "LEFT JOIN (\n",
    "    SELECT CO_UNID, MAX(NO_UNID) AS NO_UNID\n",
    "    FROM ncm_unidade\n",
    "    GROUP BY CO_UNID\n",
    ") nu ON fi.CO_UNID = nu.CO_UNID\n",
    "LEFT JOIN (\n",
    "    SELECT CO_URF, MAX(NO_URF) AS NO_URF\n",
    "    FROM urf\n",
    "    GROUP BY CO_URF\n",
    ") u ON fi.CO_URF = u.CO_URF\n",
    "LEFT JOIN (\n",
    "    SELECT CO_PAIS, MAX(CO_PAIS_ISOA3) AS CO_PAIS_ISOA3, MAX(NO_PAIS) AS NO_PAIS\n",
    "    FROM paises\n",
    "    GROUP BY CO_PAIS\n",
    ") p ON fi.CO_PAIS = p.CO_PAIS\n",
    "LEFT JOIN (\n",
    "    SELECT CO_VIA, MAX(NO_VIA) AS NO_VIA\n",
    "    FROM via\n",
    "    GROUP BY CO_VIA\n",
    ") v ON fi.CO_VIA = v.CO_VIA\n",
    "LEFT JOIN (\n",
    "    SELECT CO_PAIS, MAX(NO_BLOCO) AS NO_BLOCO\n",
    "    FROM blocos\n",
    "    GROUP BY CO_PAIS\n",
    ") bl ON fi.CO_PAIS = bl.CO_PAIS)\n",
    "\n",
    "SELECT\n",
    "    -- Identificação do Produto primeiro (Produto no centro da análise)\n",
    "    nj.CO_NCM,\n",
    "    nj.NO_NCM_POR,\n",
    "    nj.NO_PPE,\n",
    "    nj.NO_PPI,\n",
    "    nj.NO_FAT_AGREG,\n",
    "    \n",
    "    -- Classificações (ISIC, SH, CUCI, CGCE)\n",
    "    nj.NO_ISIC_CLASSE,\n",
    "    nj.NO_ISIC_GRUPO,\n",
    "    nj.CO_ISIC_DIVISAO,\n",
    "    nj.NO_ISIC_DIVISAO,\n",
    "    nj.NO_ISIC_SECAO,\n",
    "\n",
    "    nj.NO_SH6_POR,\n",
    "    nj.CO_SH4,\n",
    "    nj.NO_SH4_POR,\n",
    "    nj.CO_SH2,\n",
    "    nj.NO_SH2_POR,\n",
    "    nj.NO_SEC_POR,\n",
    "    nj.NO_CUCI_SEC,\n",
    "    nj.CO_CUCI_GRUPO,\n",
    "    nj.NO_CUCI_SUB,\n",
    "    nj.NO_CUCI_ITEM,\n",
    "    nj.NO_CGCE_N1,\n",
    "    nj.NO_CGCE_N2,\n",
    "    nj.NO_CGCE_N3,\n",
    "\n",
    "    -- Comércio Exterior (valores, peso)\n",
    "    fi.VL_FOB,\n",
    "    fi.VL_FRETE,\n",
    "    fi.VL_SEGURO,\n",
    "    fi.KG_LIQUIDO,\n",
    "    fi.QT_ESTAT,\n",
    "    \n",
    "    -- Origem/Transporte\n",
    "    fi.CO_ANO,\n",
    "    fi.CO_MES,\n",
    "    fi.CO_UNID,\n",
    "    fi.NO_PAIS,\n",
    "    fi.CO_PAIS_ISOA3,\n",
    "    fi.NO_VIA,\n",
    "    fi.NO_URF,\n",
    "    fi.NO_BLOCO\n",
    "FROM fat_export_joined fi\n",
    "LEFT JOIN ncm_joined nj ON fi.CO_NCM = nj.CO_NCM\n",
    "\n",
    "\n",
    "\"\"\")\n"
   ]
  },
  {
   "cell_type": "code",
   "execution_count": 0,
   "metadata": {
    "application/vnd.databricks.v1+cell": {
     "cellMetadata": {
      "byteLimit": 2048000,
      "rowLimit": 10000
     },
     "inputWidgets": {},
     "nuid": "f65eaac5-4d54-49dc-ba05-749f38c58362",
     "showTitle": false,
     "tableResultSettingsMap": {},
     "title": ""
    }
   },
   "outputs": [],
   "source": [
    "df.write.mode(\"overwrite\").option(\"mergeSchema\", \"true\").saveAsTable(\"VW_IMPORTACAO\")"
   ]
  },
  {
   "cell_type": "code",
   "execution_count": 0,
   "metadata": {
    "application/vnd.databricks.v1+cell": {
     "cellMetadata": {
      "byteLimit": 2048000,
      "rowLimit": 10000
     },
     "inputWidgets": {},
     "nuid": "9f620cf3-d12f-4d65-92b4-d11c8d5ca020",
     "showTitle": false,
     "tableResultSettingsMap": {},
     "title": ""
    }
   },
   "outputs": [],
   "source": [
    "df = spark.sql(\"\"\"\n",
    "\n",
    "WITH ncm_joined AS (\n",
    "    SELECT \n",
    "    n.CO_NCM\n",
    "    ,n.NO_NCM_POR\n",
    "    ,ni.NO_ISIC_CLASSE\n",
    "    ,ni.NO_ISIC_GRUPO\n",
    "    ,ni.CO_ISIC_DIVISAO\n",
    "    ,ni.NO_ISIC_DIVISAO\n",
    "    ,ni.NO_ISIC_SECAO\n",
    "    ,s.NO_SH6_POR\n",
    "    ,s.CO_SH4\n",
    "    ,s.NO_SH4_POR\n",
    "    ,s.CO_SH2\n",
    "    ,s.NO_SH2_POR\n",
    "    ,s.CO_NCM_SECROM\n",
    "    ,s.NO_SEC_POR\n",
    "    ,np.NO_PPE\n",
    "    ,npi.NO_PPI\n",
    "    ,nfa.NO_FAT_AGREG\n",
    "    ,nc.NO_CUCI_ITEM\n",
    "    ,nc.CO_CUCI_SUB\n",
    "    ,nc.NO_CUCI_SUB\n",
    "    ,nc.CO_CUCI_GRUPO\n",
    "    ,nc.NO_CUCI_SEC\n",
    "    ,ncg.NO_CGCE_N3\n",
    "    ,ncg.NO_CGCE_N2\n",
    "    ,ncg.NO_CGCE_N1\n",
    "    FROM ncm n\n",
    "    INNER JOIN sh s ON n.CO_SH6 = s.CO_SH6\n",
    "    INNER JOIN ncm_ppe np ON n.CO_PPE = np.CO_PPE\n",
    "    INNER JOIN ncm_ppi npi ON n.CO_PPI = npi.CO_PPI\n",
    "    INNER JOIN ncm_fat_agreg nfa ON n.CO_FAT_AGREG = nfa.CO_FAT_AGREG\n",
    "    INNER JOIN ncm_cuci nc ON n.CO_CUCI_ITEM = nc.CO_CUCI_ITEM\n",
    "    INNER JOIN ncm_cgce ncg ON n.CO_CGCE_N3 = ncg.CO_CGCE_N3\n",
    "    INNER JOIN ncm_isic ni ON n.CO_ISIC_CLASSE = ni.CO_ISIC_CLASSE\n",
    "),\n",
    "fat_export_joined AS (\n",
    "    SELECT \n",
    "    fi.VL_FOB\n",
    "    ,fi.KG_LIQUIDO\n",
    "    ,fi.QT_ESTAT\n",
    "    ,u.NO_URF\n",
    "    ,bl.NO_BLOCO\n",
    "    ,p.CO_PAIS_ISOA3\n",
    "    ,p.NO_PAIS\n",
    "    ,v.NO_VIA\n",
    "    ,fi.CO_NCM\n",
    "    ,fi.CO_ANO\n",
    "    ,fi.CO_MES\n",
    "    ,fi.CO_UNID\n",
    "\n",
    "FROM bd_becomex.export fi\n",
    "LEFT JOIN (\n",
    "    SELECT CO_UNID, MAX(NO_UNID) AS NO_UNID\n",
    "    FROM ncm_unidade\n",
    "    GROUP BY CO_UNID\n",
    ") nu ON fi.CO_UNID = nu.CO_UNID\n",
    "LEFT JOIN (\n",
    "    SELECT CO_URF, MAX(NO_URF) AS NO_URF\n",
    "    FROM urf\n",
    "    GROUP BY CO_URF\n",
    ") u ON fi.CO_URF = u.CO_URF\n",
    "LEFT JOIN (\n",
    "    SELECT CO_PAIS, MAX(CO_PAIS_ISOA3) AS CO_PAIS_ISOA3, MAX(NO_PAIS) AS NO_PAIS\n",
    "    FROM paises\n",
    "    GROUP BY CO_PAIS\n",
    ") p ON fi.CO_PAIS = p.CO_PAIS\n",
    "LEFT JOIN (\n",
    "    SELECT CO_VIA, MAX(NO_VIA) AS NO_VIA\n",
    "    FROM via\n",
    "    GROUP BY CO_VIA\n",
    ") v ON fi.CO_VIA = v.CO_VIA\n",
    "LEFT JOIN (\n",
    "    SELECT CO_PAIS, MAX(NO_BLOCO) AS NO_BLOCO\n",
    "    FROM blocos\n",
    "    GROUP BY CO_PAIS\n",
    ") bl ON fi.CO_PAIS = bl.CO_PAIS)\n",
    "\n",
    "\n",
    "SELECT\n",
    "    -- Produto / Identificação\n",
    "    nj.CO_NCM,\n",
    "    nj.NO_NCM_POR,\n",
    "    nj.NO_PPE,\n",
    "    nj.NO_PPI,\n",
    "    nj.NO_FAT_AGREG,\n",
    "    \n",
    "    -- Classificações (ISIC, SH, CUCI, CGCE)\n",
    "    nj.NO_ISIC_SECAO,\n",
    "    nj.CO_ISIC_DIVISAO,\n",
    "    nj.NO_ISIC_DIVISAO,\n",
    "    nj.NO_ISIC_GRUPO,\n",
    "    nj.NO_ISIC_CLASSE,\n",
    "    \n",
    "    nj.NO_SH6_POR,\n",
    "    nj.CO_SH4,\n",
    "    nj.NO_SH4_POR,\n",
    "    nj.CO_SH2,\n",
    "    nj.NO_SH2_POR,\n",
    "    nj.NO_SEC_POR,\n",
    "    \n",
    "    nj.NO_CUCI_SEC,\n",
    "    nj.CO_CUCI_GRUPO,\n",
    "    nj.NO_CUCI_SUB,\n",
    "    nj.CO_CUCI_SUB,\n",
    "    nj.NO_CUCI_ITEM,\n",
    "    \n",
    "    nj.NO_CGCE_N1,\n",
    "    nj.NO_CGCE_N2,\n",
    "    nj.NO_CGCE_N3,\n",
    "    \n",
    "    -- Dados comerciais\n",
    "    fi.VL_FOB,\n",
    "    fi.KG_LIQUIDO,\n",
    "    fi.QT_ESTAT,\n",
    "    \n",
    "    -- Dados de origem/transporte\n",
    "    fi.CO_ANO,\n",
    "    fi.CO_MES,\n",
    "    fi.CO_UNID,\n",
    "    fi.NO_PAIS,\n",
    "    fi.CO_PAIS_ISOA3,\n",
    "    fi.NO_VIA,\n",
    "    fi.NO_URF,\n",
    "    fi.NO_BLOCO\n",
    "\n",
    "FROM fat_export_joined fi\n",
    "LEFT JOIN ncm_joined nj ON fi.CO_NCM = nj.CO_NCM\n",
    "\n",
    "\"\"\")\n"
   ]
  },
  {
   "cell_type": "code",
   "execution_count": 0,
   "metadata": {
    "application/vnd.databricks.v1+cell": {
     "cellMetadata": {
      "byteLimit": 2048000,
      "rowLimit": 10000
     },
     "inputWidgets": {},
     "nuid": "3aee2c9f-fa51-4064-a5ce-a18ffa1a3a85",
     "showTitle": false,
     "tableResultSettingsMap": {},
     "title": ""
    }
   },
   "outputs": [],
   "source": [
    "df.count()"
   ]
  },
  {
   "cell_type": "code",
   "execution_count": 0,
   "metadata": {
    "application/vnd.databricks.v1+cell": {
     "cellMetadata": {
      "byteLimit": 2048000,
      "rowLimit": 10000
     },
     "inputWidgets": {},
     "nuid": "e1cfc369-5a46-46cc-9821-f7363b8d1b4c",
     "showTitle": false,
     "tableResultSettingsMap": {},
     "title": ""
    }
   },
   "outputs": [],
   "source": [
    "df.count()"
   ]
  },
  {
   "cell_type": "code",
   "execution_count": 0,
   "metadata": {
    "application/vnd.databricks.v1+cell": {
     "cellMetadata": {
      "byteLimit": 2048000,
      "rowLimit": 10000
     },
     "inputWidgets": {},
     "nuid": "a1dbf77b-bc14-4920-b044-5543df95a65a",
     "showTitle": false,
     "tableResultSettingsMap": {},
     "title": ""
    }
   },
   "outputs": [],
   "source": [
    "df.write.mode(\"overwrite\").option(\"mergeSchema\", \"true\").saveAsTable(\"VW_EXPORTACAO\")"
   ]
  },
  {
   "cell_type": "code",
   "execution_count": 0,
   "metadata": {
    "application/vnd.databricks.v1+cell": {
     "cellMetadata": {
      "byteLimit": 2048000,
      "implicitDf": true,
      "rowLimit": 10000
     },
     "inputWidgets": {},
     "nuid": "080b2acf-e5bd-4a33-9b6d-f10e16630bb2",
     "showTitle": false,
     "tableResultSettingsMap": {},
     "title": ""
    }
   },
   "outputs": [],
   "source": [
    "%sql\n",
    "OPTIMIZE VW_EXPORTACAO;\n",
    "OPTIMIZE VW_IMPORTACAO;"
   ]
  },
  {
   "cell_type": "code",
   "execution_count": 0,
   "metadata": {
    "application/vnd.databricks.v1+cell": {
     "cellMetadata": {
      "byteLimit": 2048000,
      "implicitDf": true,
      "rowLimit": 10000
     },
     "inputWidgets": {},
     "nuid": "cb034466-a1a7-4d61-8dd1-ef7afef1d76f",
     "showTitle": false,
     "tableResultSettingsMap": {},
     "title": ""
    }
   },
   "outputs": [],
   "source": [
    "%sql\n",
    "create view if not exists vw_exportacao_2024 as\n",
    "select * from vw_exportacao where co_ano = 2024"
   ]
  },
  {
   "cell_type": "code",
   "execution_count": 0,
   "metadata": {
    "application/vnd.databricks.v1+cell": {
     "cellMetadata": {
      "byteLimit": 2048000,
      "implicitDf": true,
      "rowLimit": 10000
     },
     "inputWidgets": {},
     "nuid": "3cfe2156-d447-4070-8b90-553e42913de3",
     "showTitle": false,
     "tableResultSettingsMap": {},
     "title": ""
    }
   },
   "outputs": [],
   "source": [
    "%sql\n",
    "create view if not exists vw_importacao_2024 as\n",
    "select * from vw_importacao where co_ano = 2024"
   ]
  },
  {
   "cell_type": "code",
   "execution_count": 0,
   "metadata": {
    "application/vnd.databricks.v1+cell": {
     "cellMetadata": {
      "byteLimit": 2048000,
      "implicitDf": true,
      "rowLimit": 10000
     },
     "inputWidgets": {},
     "nuid": "6ac2c879-6617-41d7-a168-6c32c677d683",
     "showTitle": false,
     "tableResultSettingsMap": {},
     "title": ""
    }
   },
   "outputs": [],
   "source": [
    "%sql\n",
    "select sum(vl_fob) from vw_importacao-- where CO_ANO = 2024"
   ]
  },
  {
   "cell_type": "markdown",
   "metadata": {
    "application/vnd.databricks.v1+cell": {
     "cellMetadata": {},
     "inputWidgets": {},
     "nuid": "f53498d0-0857-426f-8c76-e4495e33d437",
     "showTitle": false,
     "tableResultSettingsMap": {},
     "title": ""
    }
   },
   "source": [
    "# CORRETO"
   ]
  },
  {
   "cell_type": "code",
   "execution_count": 0,
   "metadata": {
    "application/vnd.databricks.v1+cell": {
     "cellMetadata": {
      "byteLimit": 2048000,
      "implicitDf": true,
      "rowLimit": 10000
     },
     "inputWidgets": {},
     "nuid": "affc03d4-dcf8-4f6f-8195-aa2e29c37292",
     "showTitle": false,
     "tableResultSettingsMap": {},
     "title": ""
    }
   },
   "outputs": [],
   "source": [
    "%sql\n",
    "select sum(vl_fob) from export where co_ano = 2024"
   ]
  },
  {
   "cell_type": "code",
   "execution_count": 0,
   "metadata": {
    "application/vnd.databricks.v1+cell": {
     "cellMetadata": {
      "byteLimit": 2048000,
      "implicitDf": true,
      "rowLimit": 10000
     },
     "inputWidgets": {},
     "nuid": "718a6ccc-cb2a-4142-b49d-37e4b73ee8f7",
     "showTitle": false,
     "tableResultSettingsMap": {},
     "title": ""
    }
   },
   "outputs": [],
   "source": [
    "%sql\n",
    "select sum(vl_fob) from vw_exportacao where co_ano = 2024"
   ]
  }
 ],
 "metadata": {
  "application/vnd.databricks.v1+notebook": {
   "computePreferences": null,
   "dashboards": [],
   "environmentMetadata": {
    "base_environment": "",
    "environment_version": "2"
   },
   "inputWidgetPreferences": null,
   "language": "python",
   "notebookMetadata": {
    "mostRecentlyExecutedCommandWithImplicitDF": {
     "commandId": 7356285540190032,
     "dataframes": [
      "_sqldf"
     ]
    },
    "pythonIndentUnit": 4
   },
   "notebookName": "Views",
   "widgets": {}
  },
  "language_info": {
   "name": "python"
  }
 },
 "nbformat": 4,
 "nbformat_minor": 0
}
