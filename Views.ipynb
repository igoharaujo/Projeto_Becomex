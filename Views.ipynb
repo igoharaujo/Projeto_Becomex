{
 "cells": [
  {
   "cell_type": "code",
   "execution_count": 0,
   "metadata": {
    "application/vnd.databricks.v1+cell": {
     "cellMetadata": {
      "byteLimit": 2048000,
      "implicitDf": true,
      "rowLimit": 10000
     },
     "inputWidgets": {},
     "nuid": "d68e89b8-9763-4cda-ab1e-3bc71130a209",
     "showTitle": false,
     "tableResultSettingsMap": {},
     "title": ""
    }
   },
   "outputs": [],
   "source": [
    "%sql\n",
    "USE hive_metastore.bd_becomex"
   ]
  },
  {
   "cell_type": "code",
   "execution_count": 0,
   "metadata": {
    "application/vnd.databricks.v1+cell": {
     "cellMetadata": {
      "byteLimit": 2048000,
      "implicitDf": true,
      "rowLimit": 10000
     },
     "inputWidgets": {},
     "nuid": "05ff266b-a304-41f2-b610-9e58e30d3899",
     "showTitle": false,
     "tableResultSettingsMap": {},
     "title": ""
    }
   },
   "outputs": [],
   "source": [
    "df = spark.sql(\"\"\"\n",
    "\n",
    "WITH ncm_joined AS (\n",
    "    SELECT \n",
    "    n.CO_NCM\n",
    "    ,n.NO_NCM_POR\n",
    "    ,ni.NO_ISIC_CLASSE\n",
    "    ,ni.NO_ISIC_GRUPO\n",
    "    ,ni.CO_ISIC_DIVISAO\n",
    "    ,ni.NO_ISIC_DIVISAO\n",
    "    ,ni.NO_ISIC_SECAO\n",
    "    ,s.NO_SH6_POR\n",
    "    ,s.CO_SH4\n",
    "    ,s.NO_SH4_POR\n",
    "    ,s.CO_SH2\n",
    "    ,s.NO_SH2_POR\n",
    "    ,s.CO_NCM_SECROM\n",
    "    ,s.NO_SEC_POR\n",
    "    ,np.NO_PPE\n",
    "    ,npi.NO_PPI\n",
    "    ,nfa.NO_FAT_AGREG\n",
    "    ,nc.NO_CUCI_ITEM\n",
    "    ,nc.CO_CUCI_SUB\n",
    "    ,nc.NO_CUCI_SUB\n",
    "    ,nc.CO_CUCI_GRUPO\n",
    "    ,nc.NO_CUCI_SEC\n",
    "    ,ncg.NO_CGCE_N3\n",
    "    ,ncg.NO_CGCE_N2\n",
    "    ,ncg.NO_CGCE_N1\n",
    "\n",
    "    FROM ncm n\n",
    "    INNER JOIN sh s ON n.CO_SH6 = s.CO_SH6\n",
    "    INNER JOIN ncm_ppe np ON n.CO_PPE = np.CO_PPE\n",
    "    INNER JOIN ncm_ppi npi ON n.CO_PPI = npi.CO_PPI\n",
    "    INNER JOIN ncm_fat_agreg nfa ON n.CO_FAT_AGREG = nfa.CO_FAT_AGREG\n",
    "    INNER JOIN ncm_cuci nc ON n.CO_CUCI_ITEM = nc.CO_CUCI_ITEM\n",
    "    INNER JOIN ncm_cgce ncg ON n.CO_CGCE_N3 = ncg.CO_CGCE_N3\n",
    "    INNER JOIN ncm_isic ni ON n.CO_ISIC_CLASSE = ni.CO_ISIC_CLASSE\n",
    "),\n",
    "fat_export_joined AS (\n",
    "    SELECT \n",
    "    fi.VL_FOB\n",
    "    ,fi.VL_FRETE\n",
    "    ,fi.VL_SEGURO\n",
    "    ,fi.KG_LIQUIDO\n",
    "    ,fi.QT_ESTAT\n",
    "    ,u.NO_URF\n",
    "    ,bl.NO_BLOCO\n",
    "    ,p.CO_PAIS_ISOA3\n",
    "    ,p.NO_PAIS\n",
    "    ,v.NO_VIA\n",
    "    ,fi.CO_NCM\n",
    "    ,fi.CO_ANO\n",
    "    ,fi.CO_MES\n",
    "    ,fi.CO_UNID\n",
    "\n",
    "FROM bd_becomex.import fi\n",
    "LEFT JOIN (\n",
    "    SELECT CO_UNID, MAX(NO_UNID) AS NO_UNID\n",
    "    FROM ncm_unidade\n",
    "    GROUP BY CO_UNID\n",
    ") nu ON fi.CO_UNID = nu.CO_UNID\n",
    "LEFT JOIN (\n",
    "    SELECT CO_URF, MAX(NO_URF) AS NO_URF\n",
    "    FROM urf\n",
    "    GROUP BY CO_URF\n",
    ") u ON fi.CO_URF = u.CO_URF\n",
    "LEFT JOIN (\n",
    "    SELECT CO_PAIS, MAX(CO_PAIS_ISOA3) AS CO_PAIS_ISOA3, MAX(NO_PAIS) AS NO_PAIS\n",
    "    FROM paises\n",
    "    GROUP BY CO_PAIS\n",
    ") p ON fi.CO_PAIS = p.CO_PAIS\n",
    "LEFT JOIN (\n",
    "    SELECT CO_VIA, MAX(NO_VIA) AS NO_VIA\n",
    "    FROM via\n",
    "    GROUP BY CO_VIA\n",
    ") v ON fi.CO_VIA = v.CO_VIA\n",
    "LEFT JOIN (\n",
    "    SELECT CO_PAIS, MAX(NO_BLOCO) AS NO_BLOCO\n",
    "    FROM blocos\n",
    "    GROUP BY CO_PAIS\n",
    ") bl ON fi.CO_PAIS = bl.CO_PAIS)\n",
    "\n",
    "SELECT\n",
    "    -- Identificação do Produto primeiro (Produto no centro da análise)\n",
    "    nj.CO_NCM,\n",
    "    nj.NO_NCM_POR,\n",
    "    nj.NO_PPE,\n",
    "    nj.NO_PPI,\n",
    "    nj.NO_FAT_AGREG,\n",
    "    \n",
    "    -- Classificações (ISIC, SH, CUCI, CGCE)\n",
    "    nj.NO_ISIC_CLASSE,\n",
    "    nj.NO_ISIC_GRUPO,\n",
    "    nj.CO_ISIC_DIVISAO,\n",
    "    nj.NO_ISIC_DIVISAO,\n",
    "    nj.NO_ISIC_SECAO,\n",
    "\n",
    "    nj.NO_SH6_POR,\n",
    "    nj.CO_SH4,\n",
    "    nj.NO_SH4_POR,\n",
    "    nj.CO_SH2,\n",
    "    nj.NO_SH2_POR,\n",
    "    nj.NO_SEC_POR,\n",
    "    nj.NO_CUCI_SEC,\n",
    "    nj.CO_CUCI_GRUPO,\n",
    "    nj.NO_CUCI_SUB,\n",
    "    nj.NO_CUCI_ITEM,\n",
    "    nj.NO_CGCE_N1,\n",
    "    nj.NO_CGCE_N2,\n",
    "    nj.NO_CGCE_N3,\n",
    "\n",
    "    -- Comércio Exterior (valores, peso)\n",
    "    fi.VL_FOB,\n",
    "    fi.VL_FRETE,\n",
    "    fi.VL_SEGURO,\n",
    "    fi.KG_LIQUIDO,\n",
    "    fi.QT_ESTAT,\n",
    "    \n",
    "    -- Origem/Transporte\n",
    "    fi.CO_ANO,\n",
    "    fi.CO_MES,\n",
    "    fi.CO_UNID,\n",
    "    fi.NO_PAIS,\n",
    "    fi.CO_PAIS_ISOA3,\n",
    "    fi.NO_VIA,\n",
    "    fi.NO_URF,\n",
    "    fi.NO_BLOCO\n",
    "FROM fat_export_joined fi\n",
    "LEFT JOIN ncm_joined nj ON fi.CO_NCM = nj.CO_NCM\n",
    "\n",
    "\n",
    "\"\"\")\n"
   ]
  },
  {
   "cell_type": "code",
   "execution_count": 0,
   "metadata": {
    "application/vnd.databricks.v1+cell": {
     "cellMetadata": {
      "byteLimit": 2048000,
      "rowLimit": 10000
     },
     "inputWidgets": {},
     "nuid": "f65eaac5-4d54-49dc-ba05-749f38c58362",
     "showTitle": false,
     "tableResultSettingsMap": {},
     "title": ""
    }
   },
   "outputs": [],
   "source": [
    "df.write.mode(\"overwrite\").option(\"mergeSchema\", \"true\").saveAsTable(\"BecomexImport\")"
   ]
  },
  {
   "cell_type": "code",
   "execution_count": 0,
   "metadata": {
    "application/vnd.databricks.v1+cell": {
     "cellMetadata": {
      "byteLimit": 2048000,
      "rowLimit": 10000
     },
     "inputWidgets": {},
     "nuid": "9f620cf3-d12f-4d65-92b4-d11c8d5ca020",
     "showTitle": false,
     "tableResultSettingsMap": {},
     "title": ""
    }
   },
   "outputs": [],
   "source": [
    "df = spark.sql(\"\"\"\n",
    "\n",
    "WITH ncm_joined AS (\n",
    "    SELECT \n",
    "    n.CO_NCM\n",
    "    ,n.NO_NCM_POR\n",
    "    ,ni.NO_ISIC_CLASSE\n",
    "    ,ni.NO_ISIC_GRUPO\n",
    "    ,ni.CO_ISIC_DIVISAO\n",
    "    ,ni.NO_ISIC_DIVISAO\n",
    "    ,ni.NO_ISIC_SECAO\n",
    "    ,s.NO_SH6_POR\n",
    "    ,s.CO_SH4\n",
    "    ,s.NO_SH4_POR\n",
    "    ,s.CO_SH2\n",
    "    ,s.NO_SH2_POR\n",
    "    ,s.CO_NCM_SECROM\n",
    "    ,s.NO_SEC_POR\n",
    "    ,np.NO_PPE\n",
    "    ,npi.NO_PPI\n",
    "    ,nfa.NO_FAT_AGREG\n",
    "    ,nc.NO_CUCI_ITEM\n",
    "    ,nc.CO_CUCI_SUB\n",
    "    ,nc.NO_CUCI_SUB\n",
    "    ,nc.CO_CUCI_GRUPO\n",
    "    ,nc.NO_CUCI_SEC\n",
    "    ,ncg.NO_CGCE_N3\n",
    "    ,ncg.NO_CGCE_N2\n",
    "    ,ncg.NO_CGCE_N1\n",
    "    FROM ncm n\n",
    "    INNER JOIN sh s ON n.CO_SH6 = s.CO_SH6\n",
    "    INNER JOIN ncm_ppe np ON n.CO_PPE = np.CO_PPE\n",
    "    INNER JOIN ncm_ppi npi ON n.CO_PPI = npi.CO_PPI\n",
    "    INNER JOIN ncm_fat_agreg nfa ON n.CO_FAT_AGREG = nfa.CO_FAT_AGREG\n",
    "    INNER JOIN ncm_cuci nc ON n.CO_CUCI_ITEM = nc.CO_CUCI_ITEM\n",
    "    INNER JOIN ncm_cgce ncg ON n.CO_CGCE_N3 = ncg.CO_CGCE_N3\n",
    "    INNER JOIN ncm_isic ni ON n.CO_ISIC_CLASSE = ni.CO_ISIC_CLASSE\n",
    "),\n",
    "fat_export_joined AS (\n",
    "    SELECT \n",
    "    fi.VL_FOB\n",
    "    ,fi.KG_LIQUIDO\n",
    "    ,fi.QT_ESTAT\n",
    "    ,u.NO_URF\n",
    "    ,bl.NO_BLOCO\n",
    "    ,p.CO_PAIS_ISOA3\n",
    "    ,p.NO_PAIS\n",
    "    ,v.NO_VIA\n",
    "    ,fi.CO_NCM\n",
    "    ,fi.CO_ANO\n",
    "    ,fi.CO_MES\n",
    "    ,fi.CO_UNID\n",
    "\n",
    "FROM bd_becomex.export fi\n",
    "LEFT JOIN (\n",
    "    SELECT CO_UNID, MAX(NO_UNID) AS NO_UNID\n",
    "    FROM ncm_unidade\n",
    "    GROUP BY CO_UNID\n",
    ") nu ON fi.CO_UNID = nu.CO_UNID\n",
    "LEFT JOIN (\n",
    "    SELECT CO_URF, MAX(NO_URF) AS NO_URF\n",
    "    FROM urf\n",
    "    GROUP BY CO_URF\n",
    ") u ON fi.CO_URF = u.CO_URF\n",
    "LEFT JOIN (\n",
    "    SELECT CO_PAIS, MAX(CO_PAIS_ISOA3) AS CO_PAIS_ISOA3, MAX(NO_PAIS) AS NO_PAIS\n",
    "    FROM paises\n",
    "    GROUP BY CO_PAIS\n",
    ") p ON fi.CO_PAIS = p.CO_PAIS\n",
    "LEFT JOIN (\n",
    "    SELECT CO_VIA, MAX(NO_VIA) AS NO_VIA\n",
    "    FROM via\n",
    "    GROUP BY CO_VIA\n",
    ") v ON fi.CO_VIA = v.CO_VIA\n",
    "LEFT JOIN (\n",
    "    SELECT CO_PAIS, MAX(NO_BLOCO) AS NO_BLOCO\n",
    "    FROM blocos\n",
    "    GROUP BY CO_PAIS\n",
    ") bl ON fi.CO_PAIS = bl.CO_PAIS)\n",
    "\n",
    "\n",
    "SELECT\n",
    "    -- Produto / Identificação\n",
    "    nj.CO_NCM,\n",
    "    nj.NO_NCM_POR,\n",
    "    nj.NO_PPE,\n",
    "    nj.NO_PPI,\n",
    "    nj.NO_FAT_AGREG,\n",
    "    \n",
    "    -- Classificações (ISIC, SH, CUCI, CGCE)\n",
    "    nj.NO_ISIC_SECAO,\n",
    "    nj.CO_ISIC_DIVISAO,\n",
    "    nj.NO_ISIC_DIVISAO,\n",
    "    nj.NO_ISIC_GRUPO,\n",
    "    nj.NO_ISIC_CLASSE,\n",
    "    \n",
    "    nj.NO_SH6_POR,\n",
    "    nj.CO_SH4,\n",
    "    nj.NO_SH4_POR,\n",
    "    nj.CO_SH2,\n",
    "    nj.NO_SH2_POR,\n",
    "    nj.NO_SEC_POR,\n",
    "    \n",
    "    nj.NO_CUCI_SEC,\n",
    "    nj.CO_CUCI_GRUPO,\n",
    "    nj.NO_CUCI_SUB,\n",
    "    nj.CO_CUCI_SUB,\n",
    "    nj.NO_CUCI_ITEM,\n",
    "    \n",
    "    nj.NO_CGCE_N1,\n",
    "    nj.NO_CGCE_N2,\n",
    "    nj.NO_CGCE_N3,\n",
    "    \n",
    "    -- Dados comerciais\n",
    "    fi.VL_FOB,\n",
    "    fi.KG_LIQUIDO,\n",
    "    fi.QT_ESTAT,\n",
    "    \n",
    "    -- Dados de origem/transporte\n",
    "    fi.CO_ANO,\n",
    "    fi.CO_MES,\n",
    "    fi.CO_UNID,\n",
    "    fi.NO_PAIS,\n",
    "    fi.CO_PAIS_ISOA3,\n",
    "    fi.NO_VIA,\n",
    "    fi.NO_URF,\n",
    "    fi.NO_BLOCO\n",
    "\n",
    "FROM fat_export_joined fi\n",
    "LEFT JOIN ncm_joined nj ON fi.CO_NCM = nj.CO_NCM\n",
    "\n",
    "\"\"\")\n"
   ]
  },
  {
   "cell_type": "code",
   "execution_count": 0,
   "metadata": {
    "application/vnd.databricks.v1+cell": {
     "cellMetadata": {
      "byteLimit": 2048000,
      "rowLimit": 10000
     },
     "inputWidgets": {},
     "nuid": "a1dbf77b-bc14-4920-b044-5543df95a65a",
     "showTitle": false,
     "tableResultSettingsMap": {},
     "title": ""
    }
   },
   "outputs": [],
   "source": [
    "df.write.mode(\"overwrite\").option(\"mergeSchema\", \"true\").saveAsTable(\"BecomexExport\")"
   ]
  },
  {
   "cell_type": "code",
   "execution_count": 0,
   "metadata": {
    "application/vnd.databricks.v1+cell": {
     "cellMetadata": {
      "byteLimit": 2048000,
      "implicitDf": true,
      "rowLimit": 10000
     },
     "inputWidgets": {},
     "nuid": "080b2acf-e5bd-4a33-9b6d-f10e16630bb2",
     "showTitle": false,
     "tableResultSettingsMap": {},
     "title": ""
    }
   },
   "outputs": [],
   "source": [
    "%sql\n",
    "OPTIMIZE BecomexImport;\n",
    "OPTIMIZE BecomexExport;"
   ]
  },
  {
   "cell_type": "code",
   "execution_count": 0,
   "metadata": {
    "application/vnd.databricks.v1+cell": {
     "cellMetadata": {
      "byteLimit": 2048000,
      "implicitDf": true,
      "rowLimit": 10000
     },
     "inputWidgets": {},
     "nuid": "cb034466-a1a7-4d61-8dd1-ef7afef1d76f",
     "showTitle": false,
     "tableResultSettingsMap": {},
     "title": ""
    }
   },
   "outputs": [],
   "source": [
    "%sql\n",
    "create view if not exists vw_exportacao as\n",
    "select * from BecomexExport where co_ano >= 2024"
   ]
  },
  {
   "cell_type": "code",
   "execution_count": 0,
   "metadata": {
    "application/vnd.databricks.v1+cell": {
     "cellMetadata": {
      "byteLimit": 2048000,
      "implicitDf": true,
      "rowLimit": 10000
     },
     "inputWidgets": {},
     "nuid": "3cfe2156-d447-4070-8b90-553e42913de3",
     "showTitle": false,
     "tableResultSettingsMap": {},
     "title": ""
    }
   },
   "outputs": [],
   "source": [
    "%sql\n",
    "create view if not exists vw_importacao as\n",
    "select * from BecomexImport where co_ano >= 2024"
   ]
  },
  {
   "cell_type": "code",
   "execution_count": 0,
   "metadata": {
    "application/vnd.databricks.v1+cell": {
     "cellMetadata": {
      "byteLimit": 2048000,
      "implicitDf": true,
      "rowLimit": 10000
     },
     "inputWidgets": {},
     "nuid": "c4b552af-a2d6-4dc6-a57a-4209923a3f90",
     "showTitle": false,
     "tableResultSettingsMap": {},
     "title": ""
    }
   },
   "outputs": [],
   "source": [
    "%sql\n",
    "select * from vw_importacao"
   ]
  },
  {
   "cell_type": "code",
   "execution_count": 0,
   "metadata": {
    "application/vnd.databricks.v1+cell": {
     "cellMetadata": {
      "byteLimit": 2048000,
      "implicitDf": true,
      "rowLimit": 10000
     },
     "inputWidgets": {},
     "nuid": "a7dd0936-a21d-4279-bbfa-28bb51c06de5",
     "showTitle": false,
     "tableResultSettingsMap": {},
     "title": ""
    }
   },
   "outputs": [],
   "source": [
    "%sql\n",
    "SELECT\n",
    "  NO_NCM_POR AS NOME_PRODUTO,\n",
    "\n",
    "  CASE\n",
    "    WHEN CO_ISIC_DIVISAO BETWEEN 1 AND 3 THEN\n",
    "      CASE\n",
    "        WHEN NO_NCM_POR ILIKE '%vivo%' THEN 'Animal Vivo'\n",
    "        WHEN NO_NCM_POR ILIKE '%soja%' OR NO_NCM_POR ILIKE '%milho%' THEN 'Vegetal In Natura'\n",
    "        ELSE 'Produto Agropecuário Bruto'\n",
    "      END\n",
    "\n",
    "    WHEN CO_ISIC_DIVISAO BETWEEN 10 AND 12 THEN\n",
    "      CASE\n",
    "        WHEN NO_FAT_AGREG ILIKE '%alimento%' THEN 'Produto Agroindustrial - Alimento'\n",
    "        WHEN NO_NCM_POR ILIKE '%ração%' THEN 'Produto Agroindustrial - Ração'\n",
    "        WHEN NO_NCM_POR ILIKE '%bebida%' THEN 'Produto Agroindustrial - Bebida'\n",
    "        ELSE 'Produto Agroindustrial - Geral'\n",
    "      END\n",
    "\n",
    "    WHEN CO_ISIC_DIVISAO BETWEEN 13 AND 33 THEN\n",
    "      CASE\n",
    "        WHEN NO_PPE ILIKE '%matéria%' OR NO_PPI ILIKE '%matéria%' THEN 'Matéria-Prima Agroindustrial'\n",
    "        WHEN NO_NCM_POR ILIKE '%pele%' OR NO_NCM_POR ILIKE '%carcaça%' THEN 'Subproduto Animal'\n",
    "        ELSE 'Produto Industrial Diverso'\n",
    "      END\n",
    "\n",
    "    ELSE 'Outros'\n",
    "  END AS CATEGORIA_AGROAMPLIADA,\n",
    "\n",
    "  SUM(VL_FOB) AS TOTAL_FOB,\n",
    "  SUM(KG_LIQUIDO) AS TOTAL_KG_LIQUIDO,\n",
    "  SUM(QT_ESTAT) AS TOTAL_QT_ESTAT\n",
    "\n",
    "FROM vw_importacao\n",
    "GROUP BY \n",
    "  NO_NCM_POR,\n",
    "  CASE\n",
    "    WHEN CO_ISIC_DIVISAO BETWEEN 1 AND 3 THEN\n",
    "      CASE\n",
    "        WHEN NO_NCM_POR ILIKE '%vivo%' THEN 'Animal Vivo'\n",
    "        WHEN NO_NCM_POR ILIKE '%soja%' OR NO_NCM_POR ILIKE '%milho%' THEN 'Vegetal In Natura'\n",
    "        ELSE 'Produto Agropecuário Bruto'\n",
    "      END\n",
    "\n",
    "    WHEN CO_ISIC_DIVISAO BETWEEN 10 AND 12 THEN\n",
    "      CASE\n",
    "        WHEN NO_FAT_AGREG ILIKE '%alimento%' THEN 'Produto Agroindustrial - Alimento'\n",
    "        WHEN NO_NCM_POR ILIKE '%ração%' THEN 'Produto Agroindustrial - Ração'\n",
    "        WHEN NO_NCM_POR ILIKE '%bebida%' THEN 'Produto Agroindustrial - Bebida'\n",
    "        ELSE 'Produto Agroindustrial - Geral'\n",
    "      END\n",
    "\n",
    "    WHEN CO_ISIC_DIVISAO BETWEEN 13 AND 33 THEN\n",
    "      CASE\n",
    "        WHEN NO_PPE ILIKE '%matéria%' OR NO_PPI ILIKE '%matéria%' THEN 'Matéria-Prima Agroindustrial'\n",
    "        WHEN NO_NCM_POR ILIKE '%pele%' OR NO_NCM_POR ILIKE '%carcaça%' THEN 'Subproduto Animal'\n",
    "        ELSE 'Produto Industrial Diverso'\n",
    "      END\n",
    "\n",
    "    ELSE 'Outros'\n",
    "  END\n",
    "ORDER BY TOTAL_FOB DESC\n"
   ]
  }
 ],
 "metadata": {
  "application/vnd.databricks.v1+notebook": {
   "computePreferences": null,
   "dashboards": [],
   "environmentMetadata": {
    "base_environment": "",
    "environment_version": "2"
   },
   "inputWidgetPreferences": null,
   "language": "python",
   "notebookMetadata": {
    "mostRecentlyExecutedCommandWithImplicitDF": {
     "commandId": 8006835271635829,
     "dataframes": [
      "_sqldf"
     ]
    },
    "pythonIndentUnit": 4
   },
   "notebookName": "Views",
   "widgets": {}
  },
  "language_info": {
   "name": "python"
  }
 },
 "nbformat": 4,
 "nbformat_minor": 0
}
