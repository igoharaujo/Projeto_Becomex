{
 "cells": [
  {
   "cell_type": "code",
   "execution_count": 114,
   "id": "067cc4d7",
   "metadata": {},
   "outputs": [],
   "source": [
    "import requests\n",
    "import pandas as pd\n",
    "import zipfile\n",
    "import io\n",
    "from io import StringIO"
   ]
  },
  {
   "cell_type": "code",
   "execution_count": 115,
   "id": "109b7a4d",
   "metadata": {},
   "outputs": [],
   "source": [
    "dic_tabelas = {\n",
    "    'tabela_ncm': {\n",
    "        'nome': 'ncm',\n",
    "        'url': 'https://balanca.economia.gov.br/balanca/bd/tabelas/NCM.csv'\n",
    "    },\n",
    "    'tabela_sh': {\n",
    "        'nome': 'sh',\n",
    "        'url': 'https://balanca.economia.gov.br/balanca/bd/tabelas/NCM_SH.csv'\n",
    "    },\n",
    "    'tabela_cuci': {\n",
    "        'nome': 'ncm_cuci',\n",
    "        'url': 'https://balanca.economia.gov.br/balanca/bd/tabelas/NCM_CUCI.csv'\n",
    "    },\n",
    "    'tabela_isic': {\n",
    "        'nome': 'ncm_isic',\n",
    "        'url': 'https://balanca.economia.gov.br/balanca/bd/tabelas/NCM_ISIC.csv'\n",
    "    },\n",
    "    'tabela_isic_cuci': {\n",
    "        'nome': 'isic_cuci',\n",
    "        'url': 'https://balanca.economia.gov.br/balanca/bd/tabelas/ISIC_CUCI.csv' #apagar\n",
    "    },\n",
    "    'tabela_cgce': {\n",
    "        'nome': 'ncm_cgce',\n",
    "        'url': 'https://balanca.economia.gov.br/balanca/bd/tabelas/NCM_CGCE.csv'\n",
    "    },\n",
    "    'tabela_fator_agregado': {\n",
    "        'nome': 'ncm_fat_agreg',\n",
    "        'url': 'https://balanca.economia.gov.br/balanca/bd/tabelas/NCM_FAT_AGREG.csv'\n",
    "    },\n",
    "    'tabela_ppe': {\n",
    "        'nome': 'ncm_ppe',\n",
    "        'url': 'https://balanca.economia.gov.br/balanca/bd/tabelas/NCM_PPE.csv'\n",
    "    },\n",
    "    'tabela_ppi': {\n",
    "        'nome': 'ncm_ppi',\n",
    "        'url': 'https://balanca.economia.gov.br/balanca/bd/tabelas/NCM_PPI.csv'\n",
    "    },\n",
    "    'tabela_unidade': {\n",
    "        'nome': 'ncm_unidade',\n",
    "        'url': 'https://balanca.economia.gov.br/balanca/bd/tabelas/NCM_UNIDADE.csv'\n",
    "    },\n",
    "    'tabela_nbm_ncm': {\n",
    "        'nome': 'nbm_ncm',\n",
    "        'url': 'https://balanca.economia.gov.br/balanca/bd/tabelas/NBM_NCM.csv'\n",
    "    },\n",
    "    'tabela_nbm': {\n",
    "        'nome': 'nbm',\n",
    "        'url': 'https://balanca.economia.gov.br/balanca/bd/tabelas/NBM.csv'\n",
    "    },\n",
    "    'tabela_uf': {\n",
    "        'nome': 'estados',\n",
    "        'url': 'https://balanca.economia.gov.br/balanca/bd/tabelas/UF.csv'\n",
    "    },\n",
    "    'tabela_via': {\n",
    "        'nome': 'via',\n",
    "        'url': 'https://balanca.economia.gov.br/balanca/bd/tabelas/VIA.csv'\n",
    "    },\n",
    "    'tabela_urf': {\n",
    "        'nome': 'urf',\n",
    "        'url': 'https://balanca.economia.gov.br/balanca/bd/tabelas/URF.csv'\n",
    "    },\n",
    "    'tabela_pais': {\n",
    "        'nome': 'paises',\n",
    "        'url': 'https://balanca.economia.gov.br/balanca/bd/tabelas/PAIS.csv'\n",
    "    },\n",
    "    'tabela_blocos': {\n",
    "        'nome': 'blocos',\n",
    "        'url': 'https://balanca.economia.gov.br/balanca/bd/tabelas/PAIS_BLOCO.csv'\n",
    "    },\n",
    "    'tabela_municipios': {\n",
    "        'nome': 'municipios',\n",
    "        'url': 'https://balanca.economia.gov.br/balanca/bd/tabelas/UF_MUN.csv'\n",
    "    }\n",
    "}\n"
   ]
  },
  {
   "cell_type": "code",
   "execution_count": 116,
   "id": "6129e830",
   "metadata": {},
   "outputs": [],
   "source": [
    "def import_full(url): \n",
    "    try:\n",
    "        # Requisição para obter o arquivo ZIP\n",
    "        response = requests.get(url)\n",
    "        response.raise_for_status()  # Levanta exceção se a resposta não for 200\n",
    "\n",
    "        # Abrir o conteúdo como ZIP\n",
    "        with zipfile.ZipFile(io.BytesIO(response.content)) as z:\n",
    "            # Lista de arquivos dentro do ZIP\n",
    "            print(\"Arquivos no zip:\", z.namelist())\n",
    "\n",
    "            # Abrir o primeiro arquivo dentro do ZIP\n",
    "            with z.open(z.namelist()[0]) as csv_file:\n",
    "                # Ler o CSV para um DataFrame\n",
    "                df = pd.read_csv(csv_file, sep=';', encoding='latin1') \n",
    "\n",
    "        return df\n",
    "    \n",
    "    except requests.exceptions.RequestException as e:\n",
    "        print(f\"Erro ao acessar a URL: {e}\")\n",
    "    except zipfile.BadZipFile as e:\n",
    "        print(f\"Erro ao abrir o arquivo ZIP: {e}\")\n",
    "    except Exception as e:\n",
    "        print(f\"Erro ao processar o arquivo CSV: {e}\")"
   ]
  },
  {
   "cell_type": "code",
   "execution_count": null,
   "id": "08cbbb07",
   "metadata": {},
   "outputs": [
    {
     "ename": "",
     "evalue": "",
     "output_type": "error",
     "traceback": [
      "\u001b[1;31mThe Kernel crashed while executing code in the current cell or a previous cell. \n",
      "\u001b[1;31mPlease review the code in the cell(s) to identify a possible cause of the failure. \n",
      "\u001b[1;31mClick <a href='https://aka.ms/vscodeJupyterKernelCrash'>here</a> for more info. \n",
      "\u001b[1;31mView Jupyter <a href='command:jupyter.viewOutput'>log</a> for further details."
     ]
    }
   ],
   "source": [
    "import pandas as pd\n",
    "import requests\n",
    "from io import StringIO\n",
    "\n",
    "def import_tabelas_auxiliares(dic_tabelas):\n",
    "    globais = globals()\n",
    "    for chave, info in dic_tabelas.items():\n",
    "        url = info['url']\n",
    "        nome_variavel = info['nome']\n",
    "\n",
    "        response = requests.get(url)\n",
    "        response.raise_for_status()\n",
    "\n",
    "        try:\n",
    "            df = pd.read_csv(StringIO(response.text), sep=';')\n",
    "        except:\n",
    "            df = pd.read_csv(StringIO(response.text), sep=';')\n",
    "            df = df.split()\n",
    "        \n",
    "        # Criar variável global com o nome especificado\n",
    "        globais[nome_variavel] = df\n"
   ]
  },
  {
   "cell_type": "code",
   "execution_count": null,
   "id": "b973337f",
   "metadata": {},
   "outputs": [
    {
     "name": "stdout",
     "output_type": "stream",
     "text": [
      "Arquivos no zip: ['EXP_COMPLETA.csv']\n"
     ]
    }
   ],
   "source": [
    "fat_export = import_full('https://balanca.economia.gov.br/balanca/bd/comexstat-bd/ncm/EXP_COMPLETA.zip') # exportação\n",
    "fat_import = import_full('https://balanca.economia.gov.br/balanca/bd/comexstat-bd/ncm/IMP_COMPLETA.zip') # importação\n",
    "import_tabelas_auxiliares(dic_tabelas)"
   ]
  },
  {
   "cell_type": "markdown",
   "id": "20cd609e",
   "metadata": {},
   "source": [
    "fat_export: \n",
    "OK:\n",
    "- CO_NCM\t\n",
    "- CO_UNID\n",
    "- CO_URF\n",
    "- CO_PAIS\n",
    "- CO_VIA\n",
    "- QT_ESTAT\n",
    "- VL_FOB - é um dos tipos de valor usados no comércio internacional.\n"
   ]
  },
  {
   "cell_type": "markdown",
   "id": "5c06a3b4",
   "metadata": {},
   "source": [
    "ncm:\n",
    "ok:\n",
    "- CO_SH6\n",
    "- CO_PPE\t\n",
    "- CO_PPI\t\n",
    "- CO_FAT_AGREG\n",
    "- CO_CUCI_ITEM\n",
    "- CO_CGCE_N3\t\n",
    "- CO_ISIC_CLASSE\n"
   ]
  },
  {
   "cell_type": "code",
   "execution_count": null,
   "id": "4aa1173f",
   "metadata": {},
   "outputs": [],
   "source": [
    "ncm_joined = (\n",
    "    ncm\n",
    "    .merge(sh, left_on='CO_SH6', right_on='CO_SH6', how='inner')\n",
    "    .merge(ncm_ppe, left_on='CO_PPE', right_on='CO_PPE', how='inner')\n",
    "    .merge(ncm_ppi, left_on='CO_PPI', right_on='CO_PPI', how='inner')\n",
    "    .merge(ncm_fat_agreg, left_on='CO_FAT_AGREG', right_on='CO_FAT_AGREG', how='inner')\n",
    "    .merge(ncm_cuci, left_on='CO_CUCI_ITEM', right_on='CO_CUCI_ITEM', how='inner')\n",
    "    .merge(ncm_cgce, left_on='CO_CGCE_N3', right_on='CO_CGCE_N3', how='inner')\n",
    "    .merge(ncm_isic, left_on='CO_ISIC_CLASSE', right_on='CO_ISIC_CLASSE', how='inner')\n",
    ")\n"
   ]
  },
  {
   "cell_type": "code",
   "execution_count": null,
   "id": "35f441a2",
   "metadata": {},
   "outputs": [],
   "source": [
    "fat_export_joined = (\n",
    "    fat_export\n",
    "    .merge(ncm_unidade, left_on='CO_UNID', right_on='CO_UNID', how='inner')\n",
    "    .merge(urf, left_on='CO_URF', right_on='CO_URF', how='inner')\n",
    "    .merge(paises, left_on='CO_PAIS', right_on='CO_PAIS', how='inner')\n",
    "    .merge(via, left_on='CO_VIA', right_on='CO_VIA', how='inner')\n",
    ")\n"
   ]
  },
  {
   "cell_type": "code",
   "execution_count": null,
   "id": "4107a65b",
   "metadata": {},
   "outputs": [],
   "source": [
    "final_joined = (\n",
    "    fat_export_joined\n",
    "    .merge(ncm_joined, left_on='CO_NCM', right_on='CO_NCM', how='inner')\n",
    ")\n"
   ]
  },
  {
   "cell_type": "code",
   "execution_count": null,
   "id": "6d2caee8",
   "metadata": {},
   "outputs": [],
   "source": [
    "final_joined"
   ]
  },
  {
   "cell_type": "code",
   "execution_count": null,
   "id": "a9d5d39a",
   "metadata": {},
   "outputs": [],
   "source": [
    "#final_joined = (\n",
    "#    fat_export_joined\n",
    "#    .merge(ncm_joined, left_on='CO_NCM', right_on='CO_NCM', how='inner')\n",
    "#)"
   ]
  }
 ],
 "metadata": {
  "kernelspec": {
   "display_name": "base",
   "language": "python",
   "name": "python3"
  },
  "language_info": {
   "codemirror_mode": {
    "name": "ipython",
    "version": 3
   },
   "file_extension": ".py",
   "mimetype": "text/x-python",
   "name": "python",
   "nbconvert_exporter": "python",
   "pygments_lexer": "ipython3",
   "version": "3.12.7"
  }
 },
 "nbformat": 4,
 "nbformat_minor": 5
}
