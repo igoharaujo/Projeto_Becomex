{
 "cells": [
  {
   "cell_type": "markdown",
   "metadata": {
    "application/vnd.databricks.v1+cell": {
     "cellMetadata": {
      "byteLimit": 2048000,
      "rowLimit": 10000
     },
     "inputWidgets": {},
     "nuid": "dc2a8baf-3963-4ff3-b971-dfb844992fd3",
     "showTitle": false,
     "tableResultSettingsMap": {},
     "title": ""
    }
   },
   "source": [
    "# **Documentação - Carga Tabelas Agronegocio**\n",
    "\n",
    "### 📄 Descrição do processo:\n",
    "Este processo tem como objetivo carregar tabelas do agronegocio disponiveis no site do govBR e os dados completos de importação e exportação do ComexStat para tabelas Delta em ambiente Spark (Databricks).\n",
    "\n",
    "---\n",
    "\n",
    "### 📚 Bibliotecas Importadas:\n",
    "- `concurrent.futures.ThreadPoolExecutor`: Para execução paralela do download das tabelas auxiliares.\n",
    "- `requests`: Para fazer requisições HTTP às URLs das tabelas.\n",
    "- `pandas`: Para leitura dos arquivos CSV das tabelas auxiliares.\n",
    "- `zipfile`, `io`: Para manipulação de arquivos ZIP e leitura em buffer.\n",
    "- `os`: Para manipulação de arquivos locais temporários.\n",
    "\n",
    "---\n",
    "\n",
    "### 📦 Origem dos Dados:\n",
    "- Todas as tabelas são obtidas do site oficial da Balança Comercial (https://balanca.economia.gov.br).\n",
    "- São divididas em dois grandes blocos:\n",
    "  - **Tabelas auxiliares** (como NCM, SH, CUCI, CGCE, UF, etc).\n",
    "  - **Arquivos completos de importação e exportação** (em `.zip`, contendo grandes volumes de dados históricos).\n",
    "\n",
    "---\n",
    "\n",
    "### ⚙️ Processamento:\n",
    "\n",
    "- `CMD 2 - Bibliotecas`: Importa todas as bibliotecas necessárias para execução dos scripts.\n",
    "\n",
    "- `CMD 4 - Criação do Banco`:  \n",
    "  Criação do banco de dados Delta `bd_becomex` para armazenamento das tabelas.\n",
    "\n",
    "- `CMD 4 (cont.) - Dicionário de Tabelas Auxiliares`:  \n",
    "  Dicionário com URLs e nomes das tabelas auxiliares para automatizar o processo de importação.\n",
    "\n",
    "- `CMD 5 - Função de Importação COMEXSTAT`:  \n",
    "  Função `import_full_export_import` que faz:\n",
    "  - Download do arquivo ZIP da base de importação/exportação.\n",
    "  - Extração e leitura do CSV.\n",
    "  - Escrita como tabela Delta com inferência automática de schema.\n",
    "\n",
    "- `CMD 6 - Funções de Importação de Tabelas Auxiliares`:  \n",
    "  - `baixar_csv`: Baixa e lê um CSV da URL.\n",
    "  - `importar_table_assistants`: Converte cada CSV em DataFrame Spark e salva como tabela Delta.\n",
    "\n",
    "- `CMD 7 - Execução do Processo`:  \n",
    "  Executa:\n",
    "  - Importação de todas as tabelas auxiliares.\n",
    "  - Importação completa dos dados de **importação** (`IMP_COMPLETA.zip`).\n",
    "  - Importação completa dos dados de **exportação** (`EXP_COMPLETA.zip`).\n",
    "\n",
    "---\n",
    "\n",
    "### 🛬 Tabelas Geradas:\n",
    "\n",
    "No banco `bd_becomex` são salvas as seguintes tabelas Delta:\n",
    "\n",
    "#### Tabelas Auxiliares:\n",
    "- `ncm`\n",
    "- `sh`\n",
    "- `ncm_cuci`\n",
    "- `ncm_isic`\n",
    "- `ncm_cgce`\n",
    "- `ncm_fat_agreg`\n",
    "- `ncm_ppe`\n",
    "- `ncm_ppi`\n",
    "- `ncm_unidade`\n",
    "- `nbm_ncm`\n",
    "- `nbm`\n",
    "- `estados`\n",
    "- `via`\n",
    "- `urf`\n",
    "- `paises`\n",
    "- `blocos`\n",
    "- `municipios`\n",
    "\n",
    "#### Tabelas ComexStat:\n",
    "- `import`\n",
    "- `export`\n",
    "\n",
    "---\n",
    "\n",
    "### 🧨 Problemas Comuns:\n",
    "\n",
    "#### _Erro de conexão com a URL_\n",
    "- Verificar se a URL está ativa e disponível.\n",
    "- Tentar rodar novamente em outro horário.\n",
    "\n",
    "#### _Schema divergente entre execuções_\n",
    "- Pode haver mudança na estrutura de dados do site.\n",
    "- Verificar nomes de colunas e aplicar cast ou tratamento específico.\n",
    "\n",
    "#### _Ambiente Databricks não detectado_\n",
    "- A função tenta copiar arquivos para o DBFS, se estiver fora do Databricks, ele mantém os arquivos localmente.\n",
    "\n",
    "---\n",
    "\n",
    "### 📩 Observações Finais:\n",
    "- As tabelas geradas servem de apoio para análise da Balança Comercial.\n",
    "- As tabelas Delta permitem leitura rápida e otimização futura com ZORDER e OPTIMIZE, se necessário.\n",
    "- A execução paralela nas auxiliares agiliza o processo.\n",
    "- É recomendável agendar essa carga periodicamente para manter os dados atualizados.\n",
    "\n",
    "---\n",
    "\n",
    "> _\"A simplicidade é o último grau de sofisticação.\"_ – Leonardo da Vinci  \n"
   ]
  },
  {
   "cell_type": "code",
   "execution_count": 0,
   "metadata": {
    "application/vnd.databricks.v1+cell": {
     "cellMetadata": {
      "byteLimit": 2048000,
      "rowLimit": 10000
     },
     "inputWidgets": {},
     "nuid": "54c838df-3161-4640-ba65-2538ac42d9f3",
     "showTitle": false,
     "tableResultSettingsMap": {},
     "title": ""
    }
   },
   "outputs": [],
   "source": [
    "from concurrent.futures import ThreadPoolExecutor\n",
    "import requests\n",
    "import pandas as pd\n",
    "import zipfile\n",
    "import io\n",
    "from io import StringIO\n",
    "import os"
   ]
  },
  {
   "cell_type": "code",
   "execution_count": 0,
   "metadata": {
    "application/vnd.databricks.v1+cell": {
     "cellMetadata": {
      "byteLimit": 2048000,
      "implicitDf": true,
      "rowLimit": 10000
     },
     "inputWidgets": {},
     "nuid": "cc9dffb4-6f73-4892-9534-090306f5238e",
     "showTitle": false,
     "tableResultSettingsMap": {},
     "title": ""
    }
   },
   "outputs": [],
   "source": [
    "\n",
    "spark.sql(\"CREATE DATABASE IF NOT EXISTS bd_becomex LOCATION '/mnt/dnc/'\")"
   ]
  },
  {
   "cell_type": "code",
   "execution_count": 0,
   "metadata": {
    "application/vnd.databricks.v1+cell": {
     "cellMetadata": {
      "byteLimit": 2048000,
      "rowLimit": 10000
     },
     "inputWidgets": {},
     "nuid": "28e23f01-5927-48a0-a937-a697cc75c5a4",
     "showTitle": false,
     "tableResultSettingsMap": {},
     "title": ""
    }
   },
   "outputs": [],
   "source": [
    "dic_tabelas = {\n",
    "    'tabela_ncm': {\n",
    "        'nome': 'ncm',\n",
    "        'url': 'https://balanca.economia.gov.br/balanca/bd/tabelas/NCM.csv'\n",
    "    },\n",
    "    'tabela_sh': {\n",
    "        'nome': 'sh',\n",
    "        'url': 'https://balanca.economia.gov.br/balanca/bd/tabelas/NCM_SH.csv'\n",
    "    },\n",
    "    'tabela_cuci': {\n",
    "        'nome': 'ncm_cuci',\n",
    "        'url': 'https://balanca.economia.gov.br/balanca/bd/tabelas/NCM_CUCI.csv'\n",
    "    },\n",
    "    'tabela_isic': {\n",
    "        'nome': 'ncm_isic',\n",
    "        'url': 'https://balanca.economia.gov.br/balanca/bd/tabelas/NCM_ISIC.csv'\n",
    "    },\n",
    "    'tabela_isic_cuci': {\n",
    "        'nome': 'isic_cuci',\n",
    "        'url': 'https://balanca.economia.gov.br/balanca/bd/tabelas/ISIC_CUCI.csv' #apagar\n",
    "    },\n",
    "    'tabela_cgce': {\n",
    "        'nome': 'ncm_cgce',\n",
    "        'url': 'https://balanca.economia.gov.br/balanca/bd/tabelas/NCM_CGCE.csv'\n",
    "    },\n",
    "    'tabela_fator_agregado': {\n",
    "        'nome': 'ncm_fat_agreg',\n",
    "        'url': 'https://balanca.economia.gov.br/balanca/bd/tabelas/NCM_FAT_AGREG.csv'\n",
    "    },\n",
    "    'tabela_ppe': {\n",
    "        'nome': 'ncm_ppe',\n",
    "        'url': 'https://balanca.economia.gov.br/balanca/bd/tabelas/NCM_PPE.csv'\n",
    "    },\n",
    "    'tabela_ppi': {\n",
    "        'nome': 'ncm_ppi',\n",
    "        'url': 'https://balanca.economia.gov.br/balanca/bd/tabelas/NCM_PPI.csv'\n",
    "    },\n",
    "    'tabela_unidade': {\n",
    "        'nome': 'ncm_unidade',\n",
    "        'url': 'https://balanca.economia.gov.br/balanca/bd/tabelas/NCM_UNIDADE.csv'\n",
    "    },\n",
    "    'tabela_nbm_ncm': {\n",
    "        'nome': 'nbm_ncm',\n",
    "        'url': 'https://balanca.economia.gov.br/balanca/bd/tabelas/NBM_NCM.csv'\n",
    "    },\n",
    "    'tabela_nbm': {\n",
    "        'nome': 'nbm',\n",
    "        'url': 'https://balanca.economia.gov.br/balanca/bd/tabelas/NBM.csv'\n",
    "    },\n",
    "    'tabela_uf': {\n",
    "        'nome': 'estados',\n",
    "        'url': 'https://balanca.economia.gov.br/balanca/bd/tabelas/UF.csv'\n",
    "    },\n",
    "    'tabela_via': {\n",
    "        'nome': 'via',\n",
    "        'url': 'https://balanca.economia.gov.br/balanca/bd/tabelas/VIA.csv'\n",
    "    },\n",
    "    'tabela_urf': {\n",
    "        'nome': 'urf',\n",
    "        'url': 'https://balanca.economia.gov.br/balanca/bd/tabelas/URF.csv'\n",
    "    },\n",
    "    'tabela_pais': {\n",
    "        'nome': 'paises',\n",
    "        'url': 'https://balanca.economia.gov.br/balanca/bd/tabelas/PAIS.csv'\n",
    "    },\n",
    "    'tabela_blocos': {\n",
    "        'nome': 'blocos',\n",
    "        'url': 'https://balanca.economia.gov.br/balanca/bd/tabelas/PAIS_BLOCO.csv'\n",
    "    },\n",
    "    'tabela_municipios': {\n",
    "        'nome': 'municipios',\n",
    "        'url': 'https://balanca.economia.gov.br/balanca/bd/tabelas/UF_MUN.csv'\n",
    "    }\n",
    "}\n"
   ]
  },
  {
   "cell_type": "code",
   "execution_count": 0,
   "metadata": {
    "application/vnd.databricks.v1+cell": {
     "cellMetadata": {
      "byteLimit": 2048000,
      "rowLimit": 10000
     },
     "inputWidgets": {},
     "nuid": "d687ab13-7452-41ac-adc4-ea3bc69ee643",
     "showTitle": false,
     "tableResultSettingsMap": {},
     "title": ""
    }
   },
   "outputs": [],
   "source": [
    "def import_full_export_import(url, caminho_delta, nome_tabela):\n",
    "    try:\n",
    "        # Requisição para obter o arquivo ZIP\n",
    "        response = requests.get(url)\n",
    "        response.raise_for_status()\n",
    "\n",
    "        # Abrir o conteúdo como ZIP\n",
    "        with zipfile.ZipFile(io.BytesIO(response.content)) as z:\n",
    "            print(\"Arquivos no zip:\", z.namelist())\n",
    "\n",
    "            # Abrir o primeiro arquivo dentro do ZIP\n",
    "            with z.open(z.namelist()[0]) as csv_file:\n",
    "                # Caminhos temporários para o DBFS e local\n",
    "                local_temp_path = \"/tmp/temp_file.csv\"  # Caminho local na máquina do driver\n",
    "                dbfs_temp_path = \"dbfs:/tmp/temp_file.csv\"\n",
    "\n",
    "                # Escreve temporariamente no driver local\n",
    "                with open(local_temp_path, 'wb') as f:\n",
    "                    f.write(csv_file.read())\n",
    "\n",
    "                # Se for no Databricks, mova o arquivo para o DBFS\n",
    "                if 'dbutils' in globals():  # Verifica se está no Databricks\n",
    "                    try:\n",
    "                        dbutils.fs.cp(f\"file:{local_temp_path}\", dbfs_temp_path)\n",
    "                    except Exception as e:\n",
    "                        print(f\"❌ Erro ao mover o arquivo para DBFS: {e}\")\n",
    "                else:\n",
    "                    print(\"Ambiente local detectado, mantendo o arquivo local.\")\n",
    "\n",
    "                # Ler com Spark diretamente do DBFS ou local dependendo do ambiente\n",
    "                path_to_read = dbfs_temp_path if 'dbutils' in globals() else local_temp_path\n",
    "                df_spark = spark.read.csv(path_to_read, header=True, sep=';', inferSchema=True, encoding='latin1')\n",
    "\n",
    "                # Salva como tabela Delta\n",
    "                df_spark.write.format(\"delta\") \\\n",
    "                    .option(\"overwriteSchema\", True) \\\n",
    "                    .mode(\"overwrite\") \\\n",
    "                    .saveAsTable(f\"{caminho_delta}.{nome_tabela}\")\n",
    "\n",
    "                print(f\"✅ Tabela {nome_tabela} salva com sucesso em: {caminho_delta}.{nome_tabela}\")\n",
    "\n",
    "                # Remove os arquivos temporários\n",
    "                os.remove(local_temp_path)\n",
    "                if 'dbutils' in globals():\n",
    "                    try:\n",
    "                        dbutils.fs.rm(dbfs_temp_path)\n",
    "                    except Exception as e:\n",
    "                        print(f\"Erro ao remover o arquivo do DBFS: {e}\")\n",
    "\n",
    "    except requests.exceptions.RequestException as e:\n",
    "        print(f\"❌ Erro ao acessar a URL: {e}\")\n",
    "    except zipfile.BadZipFile as e:\n",
    "        print(f\"❌ Erro ao abrir o arquivo ZIP: {e}\")\n",
    "    except Exception as e:\n",
    "        print(f\"❌ Erro ao processar o arquivo CSV: {e}\")\n"
   ]
  },
  {
   "cell_type": "code",
   "execution_count": 0,
   "metadata": {
    "application/vnd.databricks.v1+cell": {
     "cellMetadata": {
      "byteLimit": 2048000,
      "rowLimit": 10000
     },
     "inputWidgets": {},
     "nuid": "84111aa2-9824-4236-af0a-3df0cc4a591f",
     "showTitle": false,
     "tableResultSettingsMap": {},
     "title": ""
    }
   },
   "outputs": [],
   "source": [
    "def baixar_csv(info):\n",
    "    url = info['url']\n",
    "    nome = info['nome']\n",
    "    \n",
    "    response = requests.get(url)\n",
    "    response.raise_for_status()\n",
    "    \n",
    "    df = pd.read_csv(StringIO(response.text), sep=';')\n",
    "    return nome, df\n",
    "\n",
    "def import_table_assistants(dic_tabelas, nome_banco):\n",
    "\n",
    "    with ThreadPoolExecutor() as executor:\n",
    "        resultados = executor.map(baixar_csv, dic_tabelas.values())\n",
    "\n",
    "        for nome, df in resultados:\n",
    "            df_spark = spark.createDataFrame(df)\n",
    "            tabela = f\"{nome_banco}.{nome}\"\n",
    "            try: \n",
    "                df_spark.write.format(\"delta\").option('overwriteSchema', True).mode(\"overwrite\").saveAsTable(tabela)\n",
    "                print(f\"✅ {nome} salva como tabela: {tabela}\")\n",
    "            except:\n",
    "                print(f\"❌ {nome} salva como tabela: {tabela}\")"
   ]
  },
  {
   "cell_type": "code",
   "execution_count": 0,
   "metadata": {
    "application/vnd.databricks.v1+cell": {
     "cellMetadata": {
      "byteLimit": 2048000,
      "rowLimit": 10000
     },
     "inputWidgets": {},
     "nuid": "1b162252-1b70-4f8d-95f8-0232ff34e257",
     "showTitle": false,
     "tableResultSettingsMap": {},
     "title": ""
    }
   },
   "outputs": [],
   "source": [
    "import_table_assistants(dic_tabelas, \"bd_becomex\")\n",
    "import_full_export_import('https://balanca.economia.gov.br/balanca/bd/comexstat-bd/ncm/IMP_COMPLETA.zip', 'bd_becomex', 'import') # importação\n",
    "import_full_export_import('https://balanca.economia.gov.br/balanca/bd/comexstat-bd/ncm/EXP_COMPLETA.zip', 'bd_becomex', 'export') # exportação"
   ]
  },
  {
   "cell_type": "code",
   "execution_count": 0,
   "metadata": {
    "application/vnd.databricks.v1+cell": {
     "cellMetadata": {
      "byteLimit": 2048000,
      "implicitDf": true,
      "rowLimit": 10000
     },
     "inputWidgets": {},
     "nuid": "969ffd95-74a7-4768-b08c-acae94b3ae94",
     "showTitle": false,
     "tableResultSettingsMap": {},
     "title": ""
    }
   },
   "outputs": [],
   "source": [
    "%sql\n",
    "select * from export limit 10"
   ]
  },
  {
   "cell_type": "code",
   "execution_count": 0,
   "metadata": {
    "application/vnd.databricks.v1+cell": {
     "cellMetadata": {
      "byteLimit": 2048000,
      "implicitDf": true,
      "rowLimit": 10000
     },
     "inputWidgets": {},
     "nuid": "79471e31-a2de-4647-afa7-4126bad36bea",
     "showTitle": false,
     "tableResultSettingsMap": {},
     "title": ""
    }
   },
   "outputs": [],
   "source": [
    "%sql\n",
    "SELECT \n",
    "    n.no_ncm_por, \n",
    "    e.*\n",
    "FROM  \n",
    "    ncm n \n",
    "left JOIN \n",
    "    export e ON n.co_ncm = e.co_ncm\n",
    "WHERE \n",
    "    n.no_ncm_por = 'Cocaína e seus sais'\n"
   ]
  },
  {
   "cell_type": "code",
   "execution_count": 0,
   "metadata": {
    "application/vnd.databricks.v1+cell": {
     "cellMetadata": {
      "byteLimit": 2048000,
      "implicitDf": true,
      "rowLimit": 10000
     },
     "inputWidgets": {},
     "nuid": "20f2564c-b77a-437f-87c3-19c0cd41f1f6",
     "showTitle": false,
     "tableResultSettingsMap": {},
     "title": ""
    }
   },
   "outputs": [],
   "source": [
    "%sql\n",
    "select co_ncm, no_ncm_por from ncm\n",
    "order by co_ncm"
   ]
  }
 ],
 "metadata": {
  "application/vnd.databricks.v1+notebook": {
   "computePreferences": null,
   "dashboards": [],
   "environmentMetadata": {
    "base_environment": "",
    "environment_version": "2"
   },
   "inputWidgetPreferences": null,
   "language": "python",
   "notebookMetadata": {
    "mostRecentlyExecutedCommandWithImplicitDF": {
     "commandId": 8581379610859431,
     "dataframes": [
      "_sqldf"
     ]
    },
    "pythonIndentUnit": 2
   },
   "notebookName": "IngestaoComexStar",
   "widgets": {}
  },
  "kernelspec": {
   "display_name": "base",
   "language": "python",
   "name": "python3"
  },
  "language_info": {
   "name": "python"
  }
 },
 "nbformat": 4,
 "nbformat_minor": 0
}
